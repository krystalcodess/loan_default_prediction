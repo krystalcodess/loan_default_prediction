{
 "cells": [
  {
   "cell_type": "code",
   "execution_count": 1,
   "metadata": {
    "execution": {
     "iopub.execute_input": "2024-07-19T02:25:08.630564Z",
     "iopub.status.busy": "2024-07-19T02:25:08.629352Z",
     "iopub.status.idle": "2024-07-19T02:25:08.639199Z",
     "shell.execute_reply": "2024-07-19T02:25:08.637810Z",
     "shell.execute_reply.started": "2024-07-19T02:25:08.630520Z"
    },
    "id": "3_J9rhPYz-gC",
    "trusted": true
   },
   "outputs": [],
   "source": [
    "import pandas as pd\n",
    "import numpy as np\n",
    "import matplotlib.pyplot as plt\n",
    "import seaborn as sns\n",
    "import random\n",
    "from sklearn.preprocessing import LabelEncoder, StandardScaler, OneHotEncoder\n",
    "from sklearn.model_selection import train_test_split\n",
    "from sklearn.svm import SVC\n",
    "from sklearn.metrics import classification_report, accuracy_score\n",
    "from sklearn.model_selection import GridSearchCV"
   ]
  },
  {
   "cell_type": "code",
   "execution_count": 2,
   "metadata": {
    "colab": {
     "base_uri": "https://localhost:8080/",
     "height": 226
    },
    "execution": {
     "iopub.execute_input": "2024-07-19T02:25:08.641947Z",
     "iopub.status.busy": "2024-07-19T02:25:08.641487Z",
     "iopub.status.idle": "2024-07-19T02:25:08.693774Z",
     "shell.execute_reply": "2024-07-19T02:25:08.692508Z",
     "shell.execute_reply.started": "2024-07-19T02:25:08.641908Z"
    },
    "id": "V2nsBEtRz-gD",
    "outputId": "8b6beb27-4a55-4592-fd7a-b31c6cca5323",
    "trusted": true
   },
   "outputs": [
    {
     "data": {
      "text/html": [
       "<div>\n",
       "<style scoped>\n",
       "    .dataframe tbody tr th:only-of-type {\n",
       "        vertical-align: middle;\n",
       "    }\n",
       "\n",
       "    .dataframe tbody tr th {\n",
       "        vertical-align: top;\n",
       "    }\n",
       "\n",
       "    .dataframe thead th {\n",
       "        text-align: right;\n",
       "    }\n",
       "</style>\n",
       "<table border=\"1\" class=\"dataframe\">\n",
       "  <thead>\n",
       "    <tr style=\"text-align: right;\">\n",
       "      <th></th>\n",
       "      <th>id</th>\n",
       "      <th>default</th>\n",
       "      <th>loan_amount</th>\n",
       "      <th>mortgage_amount</th>\n",
       "      <th>property_value</th>\n",
       "      <th>loan_reason</th>\n",
       "      <th>occupation</th>\n",
       "      <th>occupation_length</th>\n",
       "      <th>derogatory_reports</th>\n",
       "      <th>late_payments</th>\n",
       "      <th>oldest_credit_line</th>\n",
       "      <th>recent_credit</th>\n",
       "      <th>credit_number</th>\n",
       "      <th>ratio</th>\n",
       "    </tr>\n",
       "  </thead>\n",
       "  <tbody>\n",
       "    <tr>\n",
       "      <th>0</th>\n",
       "      <td>16537</td>\n",
       "      <td>0</td>\n",
       "      <td>20900</td>\n",
       "      <td>58299.0</td>\n",
       "      <td>78684.00</td>\n",
       "      <td>DebtCon</td>\n",
       "      <td>NaN</td>\n",
       "      <td>3.0</td>\n",
       "      <td>0.0</td>\n",
       "      <td>0.0</td>\n",
       "      <td>98.662820</td>\n",
       "      <td>0.0</td>\n",
       "      <td>16.0</td>\n",
       "      <td>38.972004</td>\n",
       "    </tr>\n",
       "    <tr>\n",
       "      <th>1</th>\n",
       "      <td>14800</td>\n",
       "      <td>0</td>\n",
       "      <td>17400</td>\n",
       "      <td>56111.0</td>\n",
       "      <td>114521.00</td>\n",
       "      <td>HomeImp</td>\n",
       "      <td>Office</td>\n",
       "      <td>2.0</td>\n",
       "      <td>NaN</td>\n",
       "      <td>2.0</td>\n",
       "      <td>154.855524</td>\n",
       "      <td>1.0</td>\n",
       "      <td>24.0</td>\n",
       "      <td>38.695084</td>\n",
       "    </tr>\n",
       "    <tr>\n",
       "      <th>2</th>\n",
       "      <td>11317</td>\n",
       "      <td>0</td>\n",
       "      <td>8700</td>\n",
       "      <td>57254.0</td>\n",
       "      <td>86883.00</td>\n",
       "      <td>HomeImp</td>\n",
       "      <td>Other</td>\n",
       "      <td>16.0</td>\n",
       "      <td>0.0</td>\n",
       "      <td>0.0</td>\n",
       "      <td>172.166563</td>\n",
       "      <td>0.0</td>\n",
       "      <td>28.0</td>\n",
       "      <td>25.043437</td>\n",
       "    </tr>\n",
       "    <tr>\n",
       "      <th>3</th>\n",
       "      <td>13023</td>\n",
       "      <td>0</td>\n",
       "      <td>6000</td>\n",
       "      <td>69876.0</td>\n",
       "      <td>94394.07</td>\n",
       "      <td>HomeImp</td>\n",
       "      <td>Other</td>\n",
       "      <td>0.0</td>\n",
       "      <td>0.0</td>\n",
       "      <td>1.0</td>\n",
       "      <td>179.566667</td>\n",
       "      <td>0.0</td>\n",
       "      <td>32.0</td>\n",
       "      <td>NaN</td>\n",
       "    </tr>\n",
       "    <tr>\n",
       "      <th>4</th>\n",
       "      <td>11652</td>\n",
       "      <td>0</td>\n",
       "      <td>9700</td>\n",
       "      <td>75566.0</td>\n",
       "      <td>92066.00</td>\n",
       "      <td>DebtCon</td>\n",
       "      <td>Office</td>\n",
       "      <td>14.0</td>\n",
       "      <td>0.0</td>\n",
       "      <td>0.0</td>\n",
       "      <td>94.987922</td>\n",
       "      <td>0.0</td>\n",
       "      <td>8.0</td>\n",
       "      <td>25.161183</td>\n",
       "    </tr>\n",
       "  </tbody>\n",
       "</table>\n",
       "</div>"
      ],
      "text/plain": [
       "      id  default  loan_amount  mortgage_amount  property_value loan_reason  \\\n",
       "0  16537        0        20900          58299.0        78684.00     DebtCon   \n",
       "1  14800        0        17400          56111.0       114521.00     HomeImp   \n",
       "2  11317        0         8700          57254.0        86883.00     HomeImp   \n",
       "3  13023        0         6000          69876.0        94394.07     HomeImp   \n",
       "4  11652        0         9700          75566.0        92066.00     DebtCon   \n",
       "\n",
       "  occupation  occupation_length  derogatory_reports  late_payments  \\\n",
       "0        NaN                3.0                 0.0            0.0   \n",
       "1     Office                2.0                 NaN            2.0   \n",
       "2      Other               16.0                 0.0            0.0   \n",
       "3      Other                0.0                 0.0            1.0   \n",
       "4     Office               14.0                 0.0            0.0   \n",
       "\n",
       "   oldest_credit_line  recent_credit  credit_number      ratio  \n",
       "0           98.662820            0.0           16.0  38.972004  \n",
       "1          154.855524            1.0           24.0  38.695084  \n",
       "2          172.166563            0.0           28.0  25.043437  \n",
       "3          179.566667            0.0           32.0        NaN  \n",
       "4           94.987922            0.0            8.0  25.161183  "
      ]
     },
     "execution_count": 2,
     "metadata": {},
     "output_type": "execute_result"
    }
   ],
   "source": [
    "df = pd.read_csv('/Users/d.o.npat/Desktop/Loan_prediction_deploy/hmeq_train.csv')\n",
    "df.head()"
   ]
  },
  {
   "cell_type": "code",
   "execution_count": 3,
   "metadata": {
    "colab": {
     "base_uri": "https://localhost:8080/"
    },
    "execution": {
     "iopub.execute_input": "2024-07-19T02:25:08.696650Z",
     "iopub.status.busy": "2024-07-19T02:25:08.696154Z",
     "iopub.status.idle": "2024-07-19T02:25:08.708667Z",
     "shell.execute_reply": "2024-07-19T02:25:08.707366Z",
     "shell.execute_reply.started": "2024-07-19T02:25:08.696604Z"
    },
    "id": "WQ52TS6rz-gE",
    "outputId": "da72f84e-7a24-4dcc-c563-8de2e373009f",
    "trusted": true
   },
   "outputs": [
    {
     "data": {
      "text/plain": [
       "late_payments\n",
       "0.0     3665\n",
       "1.0      561\n",
       "2.0      214\n",
       "3.0      109\n",
       "4.0       70\n",
       "5.0       32\n",
       "6.0       22\n",
       "7.0       11\n",
       "8.0        5\n",
       "11.0       2\n",
       "10.0       2\n",
       "15.0       1\n",
       "12.0       1\n",
       "Name: count, dtype: int64"
      ]
     },
     "execution_count": 3,
     "metadata": {},
     "output_type": "execute_result"
    }
   ],
   "source": [
    "df['late_payments'].value_counts()\n"
   ]
  },
  {
   "cell_type": "code",
   "execution_count": 4,
   "metadata": {
    "colab": {
     "base_uri": "https://localhost:8080/"
    },
    "execution": {
     "iopub.execute_input": "2024-07-19T02:25:08.710993Z",
     "iopub.status.busy": "2024-07-19T02:25:08.710518Z",
     "iopub.status.idle": "2024-07-19T02:25:08.725428Z",
     "shell.execute_reply": "2024-07-19T02:25:08.724000Z",
     "shell.execute_reply.started": "2024-07-19T02:25:08.710947Z"
    },
    "id": "4Gfx3gWPz-gE",
    "outputId": "da502e2e-4bc6-41e4-cf9c-88d5313fc745",
    "trusted": true
   },
   "outputs": [
    {
     "data": {
      "text/plain": [
       "derogatory_reports\n",
       "0.0     3956\n",
       "1.0      375\n",
       "2.0      136\n",
       "3.0       53\n",
       "4.0       16\n",
       "6.0       15\n",
       "5.0       12\n",
       "7.0        7\n",
       "8.0        5\n",
       "9.0        3\n",
       "10.0       1\n",
       "Name: count, dtype: int64"
      ]
     },
     "execution_count": 4,
     "metadata": {},
     "output_type": "execute_result"
    }
   ],
   "source": [
    "df['derogatory_reports'].value_counts()"
   ]
  },
  {
   "cell_type": "code",
   "execution_count": 5,
   "metadata": {
    "colab": {
     "base_uri": "https://localhost:8080/"
    },
    "execution": {
     "iopub.execute_input": "2024-07-19T02:25:08.729434Z",
     "iopub.status.busy": "2024-07-19T02:25:08.728939Z",
     "iopub.status.idle": "2024-07-19T02:25:08.742632Z",
     "shell.execute_reply": "2024-07-19T02:25:08.740973Z",
     "shell.execute_reply.started": "2024-07-19T02:25:08.729383Z"
    },
    "id": "e4l9qA8Zz-gE",
    "outputId": "d17f76e9-75fe-467c-e72a-2042c648387b",
    "trusted": true
   },
   "outputs": [
    {
     "data": {
      "text/plain": [
       "id                       0\n",
       "default                  0\n",
       "loan_amount              0\n",
       "mortgage_amount        451\n",
       "property_value          95\n",
       "loan_reason            223\n",
       "occupation             241\n",
       "occupation_length      450\n",
       "derogatory_reports     619\n",
       "late_payments          503\n",
       "oldest_credit_line     267\n",
       "recent_credit          436\n",
       "credit_number          196\n",
       "ratio                 1113\n",
       "dtype: int64"
      ]
     },
     "execution_count": 5,
     "metadata": {},
     "output_type": "execute_result"
    }
   ],
   "source": [
    "df.isnull().sum()"
   ]
  },
  {
   "cell_type": "code",
   "execution_count": 6,
   "metadata": {
    "colab": {
     "base_uri": "https://localhost:8080/"
    },
    "execution": {
     "iopub.execute_input": "2024-07-19T02:25:08.744664Z",
     "iopub.status.busy": "2024-07-19T02:25:08.744190Z",
     "iopub.status.idle": "2024-07-19T02:25:08.762609Z",
     "shell.execute_reply": "2024-07-19T02:25:08.761135Z",
     "shell.execute_reply.started": "2024-07-19T02:25:08.744622Z"
    },
    "id": "9-OI7tZpz-gE",
    "outputId": "19d717c2-630e-49f7-f165-f56ab00554b2",
    "trusted": true
   },
   "outputs": [
    {
     "name": "stdout",
     "output_type": "stream",
     "text": [
      "<class 'pandas.core.frame.DataFrame'>\n",
      "RangeIndex: 5198 entries, 0 to 5197\n",
      "Data columns (total 14 columns):\n",
      " #   Column              Non-Null Count  Dtype  \n",
      "---  ------              --------------  -----  \n",
      " 0   id                  5198 non-null   int64  \n",
      " 1   default             5198 non-null   int64  \n",
      " 2   loan_amount         5198 non-null   int64  \n",
      " 3   mortgage_amount     4747 non-null   float64\n",
      " 4   property_value      5103 non-null   float64\n",
      " 5   loan_reason         4975 non-null   object \n",
      " 6   occupation          4957 non-null   object \n",
      " 7   occupation_length   4748 non-null   float64\n",
      " 8   derogatory_reports  4579 non-null   float64\n",
      " 9   late_payments       4695 non-null   float64\n",
      " 10  oldest_credit_line  4931 non-null   float64\n",
      " 11  recent_credit       4762 non-null   float64\n",
      " 12  credit_number       5002 non-null   float64\n",
      " 13  ratio               4085 non-null   float64\n",
      "dtypes: float64(9), int64(3), object(2)\n",
      "memory usage: 568.7+ KB\n"
     ]
    }
   ],
   "source": [
    "df.info()"
   ]
  },
  {
   "cell_type": "code",
   "execution_count": 7,
   "metadata": {
    "execution": {
     "iopub.execute_input": "2024-07-19T02:25:08.764902Z",
     "iopub.status.busy": "2024-07-19T02:25:08.764464Z",
     "iopub.status.idle": "2024-07-19T02:25:08.774605Z",
     "shell.execute_reply": "2024-07-19T02:25:08.773280Z",
     "shell.execute_reply.started": "2024-07-19T02:25:08.764862Z"
    },
    "id": "c5HMDrFOz-gF",
    "trusted": true
   },
   "outputs": [],
   "source": [
    "def setOccupation(df):\n",
    "  occupation = df[0]\n",
    "  loan_reason = df[1]\n",
    "  loan_amount = df[2]\n",
    "\n",
    "  occupation_array = ['Office', 'Other', 'ProfExe','Mgr']\n",
    "\n",
    "  if pd.isnull(occupation):\n",
    "    if loan_reason == 'HomeImp':\n",
    "      return 'Office'\n",
    "    elif loan_amount > 25000:\n",
    "      return 'Self'\n",
    "    elif loan_amount < 15000 and loan_reason == 'DebtCon':\n",
    "      return 'Sales'\n",
    "    elif loan_amount < 7000 and loan_reason == 'IntImp':\n",
    "      return 'Sales'\n",
    "    else:\n",
    "      return random.choice(occupation_array)\n",
    "  else:\n",
    "    return occupation\n"
   ]
  },
  {
   "cell_type": "code",
   "execution_count": 8,
   "metadata": {
    "colab": {
     "base_uri": "https://localhost:8080/",
     "height": 636
    },
    "execution": {
     "iopub.execute_input": "2024-07-19T02:25:08.776721Z",
     "iopub.status.busy": "2024-07-19T02:25:08.776258Z",
     "iopub.status.idle": "2024-07-19T02:25:09.092878Z",
     "shell.execute_reply": "2024-07-19T02:25:09.091638Z",
     "shell.execute_reply.started": "2024-07-19T02:25:08.776678Z"
    },
    "id": "3Xw_qLFsz-gF",
    "outputId": "32c7528e-7c2a-44db-b030-ed432d51e905",
    "trusted": true
   },
   "outputs": [
    {
     "data": {
      "text/plain": [
       "<Axes: xlabel='loan_reason', ylabel='loan_amount'>"
      ]
     },
     "execution_count": 8,
     "metadata": {},
     "output_type": "execute_result"
    },
    {
     "data": {
      "image/png": "[encoded data removed]",
      "text/plain": [
       "<Figure size 1200x700 with 1 Axes>"
      ]
     },
     "metadata": {},
     "output_type": "display_data"
    }
   ],
   "source": [
    "plt.figure(figsize=(12, 7))\n",
    "sns.boxplot(x='loan_reason',y='loan_amount',data=df)"
   ]
  },
  {
   "cell_type": "code",
   "execution_count": 9,
   "metadata": {
    "execution": {
     "iopub.execute_input": "2024-07-19T02:25:09.094762Z",
     "iopub.status.busy": "2024-07-19T02:25:09.094403Z",
     "iopub.status.idle": "2024-07-19T02:25:09.102093Z",
     "shell.execute_reply": "2024-07-19T02:25:09.100585Z",
     "shell.execute_reply.started": "2024-07-19T02:25:09.094729Z"
    },
    "id": "i9UBot5sz-gF",
    "trusted": true
   },
   "outputs": [],
   "source": [
    "def setLoanReason(df):\n",
    "    occupation = df[0]\n",
    "    loan_reason = df[1]\n",
    "    loan_amount = df[2]\n",
    "\n",
    "    if pd.isnull(loan_reason):\n",
    "        if occupation == 'Sales':\n",
    "            return 'DebtCon'\n",
    "        elif loan_amount > 20000:\n",
    "            return 'DebtCon'\n",
    "        else:\n",
    "            return 'HomeImp'\n",
    "    else:\n",
    "        return loan_reason\n"
   ]
  },
  {
   "cell_type": "code",
   "execution_count": 10,
   "metadata": {
    "colab": {
     "base_uri": "https://localhost:8080/",
     "height": 430
    },
    "execution": {
     "iopub.execute_input": "2024-07-19T02:25:09.104114Z",
     "iopub.status.busy": "2024-07-19T02:25:09.103739Z",
     "iopub.status.idle": "2024-07-19T02:25:09.396066Z",
     "shell.execute_reply": "2024-07-19T02:25:09.394892Z",
     "shell.execute_reply.started": "2024-07-19T02:25:09.104081Z"
    },
    "id": "i5Yr68S_z-gG",
    "outputId": "a20512aa-1638-4d2a-a42f-72dfad47e88b",
    "trusted": true
   },
   "outputs": [
    {
     "data": {
      "image/png": "[encoded data removed]",
      "text/plain": [
       "<Figure size 640x480 with 1 Axes>"
      ]
     },
     "metadata": {},
     "output_type": "display_data"
    }
   ],
   "source": [
    "mortgage = df.iloc[:, 3].values.reshape(-1,1)\n",
    "property_train = df.iloc[:,4].values.reshape(-1,1)\n",
    "plt.scatter(mortgage, property_train, color = 'red')\n",
    "plt.show()"
   ]
  },
  {
   "cell_type": "code",
   "execution_count": 11,
   "metadata": {
    "execution": {
     "iopub.execute_input": "2024-07-19T02:25:09.400878Z",
     "iopub.status.busy": "2024-07-19T02:25:09.400474Z",
     "iopub.status.idle": "2024-07-19T02:25:09.408671Z",
     "shell.execute_reply": "2024-07-19T02:25:09.407249Z",
     "shell.execute_reply.started": "2024-07-19T02:25:09.400844Z"
    },
    "id": "eSVyrwQOz-gG",
    "trusted": true
   },
   "outputs": [],
   "source": [
    "#mortgage = 0.7*property\n",
    "\n",
    "def setMortgage(df):\n",
    "  mortgage = df[0]\n",
    "  property = df[1]\n",
    "  if pd.isnull(mortgage):\n",
    "    return 0.7*property\n",
    "  else:\n",
    "    return np.mean(mortgage)"
   ]
  },
  {
   "cell_type": "code",
   "execution_count": 12,
   "metadata": {
    "execution": {
     "iopub.execute_input": "2024-07-19T02:25:09.410740Z",
     "iopub.status.busy": "2024-07-19T02:25:09.410256Z",
     "iopub.status.idle": "2024-07-19T02:25:09.418972Z",
     "shell.execute_reply": "2024-07-19T02:25:09.417762Z",
     "shell.execute_reply.started": "2024-07-19T02:25:09.410691Z"
    },
    "id": "K2xSKvx9z-gG",
    "trusted": true
   },
   "outputs": [],
   "source": [
    "def setProperty(df):\n",
    "  mortgage = df[0]\n",
    "  property = df[1]\n",
    "  if pd.isnull(property):\n",
    "    return (10/7)*mortgage\n",
    "  else:\n",
    "    return np.mean(property)\n",
    "\n"
   ]
  },
  {
   "cell_type": "code",
   "execution_count": 13,
   "metadata": {
    "colab": {
     "base_uri": "https://localhost:8080/",
     "height": 636
    },
    "execution": {
     "iopub.execute_input": "2024-07-19T02:25:09.420886Z",
     "iopub.status.busy": "2024-07-19T02:25:09.420508Z",
     "iopub.status.idle": "2024-07-19T02:25:09.794040Z",
     "shell.execute_reply": "2024-07-19T02:25:09.792412Z",
     "shell.execute_reply.started": "2024-07-19T02:25:09.420853Z"
    },
    "id": "Cn_aA1_Vz-gG",
    "outputId": "8331799e-840d-469f-a1ae-c1ab2a9e78cd",
    "trusted": true
   },
   "outputs": [
    {
     "data": {
      "text/plain": [
       "<Axes: xlabel='occupation', ylabel='occupation_length'>"
      ]
     },
     "execution_count": 13,
     "metadata": {},
     "output_type": "execute_result"
    },
    {
     "data": {
      "image/png": "[encoded data removed]",
      "text/plain": [
       "<Figure size 1200x700 with 1 Axes>"
      ]
     },
     "metadata": {},
     "output_type": "display_data"
    }
   ],
   "source": [
    "plt.figure(figsize=(12, 7))\n",
    "sns.boxplot(x='occupation',y='occupation_length',data=df)"
   ]
  },
  {
   "cell_type": "code",
   "execution_count": 14,
   "metadata": {
    "execution": {
     "iopub.execute_input": "2024-07-19T02:25:09.796556Z",
     "iopub.status.busy": "2024-07-19T02:25:09.796058Z",
     "iopub.status.idle": "2024-07-19T02:25:09.806689Z",
     "shell.execute_reply": "2024-07-19T02:25:09.805314Z",
     "shell.execute_reply.started": "2024-07-19T02:25:09.796513Z"
    },
    "id": "Bwnny_t_z-gG",
    "trusted": true
   },
   "outputs": [],
   "source": [
    "def setOccupationLength(df):\n",
    "  occupation = df[0]\n",
    "  occupation_length = df[1]\n",
    "  if pd.isnull(occupation_length):\n",
    "    if occupation == 'Sales':\n",
    "      return 5\n",
    "    elif occupation == 'Office' or occupation == 'Self':\n",
    "      return 6\n",
    "    elif occupation == 'ProfExe'or occupation == 'Mgr':\n",
    "      return 7\n",
    "    else:\n",
    "      return 8\n",
    "  else:\n",
    "    return occupation_length"
   ]
  },
  {
   "cell_type": "code",
   "execution_count": 15,
   "metadata": {
    "colab": {
     "base_uri": "https://localhost:8080/",
     "height": 636
    },
    "execution": {
     "iopub.execute_input": "2024-07-19T02:25:09.810458Z",
     "iopub.status.busy": "2024-07-19T02:25:09.808216Z",
     "iopub.status.idle": "2024-07-19T02:25:10.241447Z",
     "shell.execute_reply": "2024-07-19T02:25:10.240296Z",
     "shell.execute_reply.started": "2024-07-19T02:25:09.810299Z"
    },
    "id": "eUivqyuhz-gG",
    "outputId": "8bf292cc-2d5f-4245-c18f-b0e49da8b04c",
    "trusted": true
   },
   "outputs": [
    {
     "data": {
      "text/plain": [
       "<Axes: xlabel='derogatory_reports', ylabel='late_payments'>"
      ]
     },
     "execution_count": 15,
     "metadata": {},
     "output_type": "execute_result"
    },
    {
     "data": {
      "image/png": "[encoded data removed]",
      "text/plain": [
       "<Figure size 1200x700 with 1 Axes>"
      ]
     },
     "metadata": {},
     "output_type": "display_data"
    }
   ],
   "source": [
    "plt.figure(figsize=(12, 7))\n",
    "sns.boxplot(x='derogatory_reports',y='late_payments',data=df)"
   ]
  },
  {
   "cell_type": "code",
   "execution_count": 16,
   "metadata": {
    "execution": {
     "iopub.execute_input": "2024-07-19T02:25:10.243525Z",
     "iopub.status.busy": "2024-07-19T02:25:10.243030Z",
     "iopub.status.idle": "2024-07-19T02:25:10.253401Z",
     "shell.execute_reply": "2024-07-19T02:25:10.251978Z",
     "shell.execute_reply.started": "2024-07-19T02:25:10.243485Z"
    },
    "id": "4V4d08Gsz-gH",
    "trusted": true
   },
   "outputs": [],
   "source": [
    "def setPayments(df):\n",
    "    derogatory_reports = df[0]\n",
    "    late_payments = df[1]\n",
    "    if pd.isnull(late_payments):\n",
    "        if derogatory_reports == 0 or derogatory_reports == 5:\n",
    "          return 0\n",
    "        elif derogatory_reports in {9,10}:\n",
    "          return 1\n",
    "        elif derogatory_reports in {1, 2, 4, 6, 8}:\n",
    "          return 2\n",
    "        elif derogatory_reports == 3:\n",
    "          return 5\n",
    "        else:\n",
    "          return 6\n",
    "    else:\n",
    "        return late_payments\n"
   ]
  },
  {
   "cell_type": "code",
   "execution_count": 17,
   "metadata": {
    "execution": {
     "iopub.execute_input": "2024-07-19T02:25:10.255566Z",
     "iopub.status.busy": "2024-07-19T02:25:10.255049Z",
     "iopub.status.idle": "2024-07-19T02:25:10.266543Z",
     "shell.execute_reply": "2024-07-19T02:25:10.265316Z",
     "shell.execute_reply.started": "2024-07-19T02:25:10.255525Z"
    },
    "id": "N00F5wFMz-gH",
    "trusted": true
   },
   "outputs": [],
   "source": [
    "def derogatoryReports(df):\n",
    "    derogatory_reports = df[0]\n",
    "    late_payments = df[1]\n",
    "    if pd.isnull(derogatory_reports):\n",
    "        if late_payments == 0:\n",
    "            return np.random.choice([0,5])\n",
    "        if late_payments == 1:\n",
    "            return np.random.choice([9,10])\n",
    "        if late_payments == 2:\n",
    "            return np.random.choice([1,2,4,6,8])\n",
    "        if late_payments == 5:\n",
    "            return 3\n",
    "        if late_payments == 6:\n",
    "            return 7\n",
    "    else:\n",
    "        return derogatory_reports"
   ]
  },
  {
   "cell_type": "code",
   "execution_count": 18,
   "metadata": {
    "execution": {
     "iopub.execute_input": "2024-07-19T02:25:10.268534Z",
     "iopub.status.busy": "2024-07-19T02:25:10.268040Z",
     "iopub.status.idle": "2024-07-19T02:25:10.280069Z",
     "shell.execute_reply": "2024-07-19T02:25:10.278709Z",
     "shell.execute_reply.started": "2024-07-19T02:25:10.268499Z"
    },
    "id": "rPTD3q_sz-gH",
    "trusted": true
   },
   "outputs": [],
   "source": [
    "avg_oldest_credit_line = df['oldest_credit_line'].mean()\n",
    "def setOldestCreditLine(df):\n",
    "  oldest_credit_line = df[0]\n",
    "\n",
    "  if pd.isnull(oldest_credit_line):\n",
    "    return avg_oldest_credit_line\n",
    "  else:\n",
    "    return oldest_credit_line"
   ]
  },
  {
   "cell_type": "code",
   "execution_count": 19,
   "metadata": {
    "colab": {
     "base_uri": "https://localhost:8080/",
     "height": 636
    },
    "execution": {
     "iopub.execute_input": "2024-07-19T02:25:10.281859Z",
     "iopub.status.busy": "2024-07-19T02:25:10.281521Z",
     "iopub.status.idle": "2024-07-19T02:25:10.661988Z",
     "shell.execute_reply": "2024-07-19T02:25:10.660867Z",
     "shell.execute_reply.started": "2024-07-19T02:25:10.281830Z"
    },
    "id": "rRTA7oBwz-gH",
    "outputId": "5f162820-7a31-48a9-c3a1-3322e42d3826",
    "trusted": true
   },
   "outputs": [
    {
     "data": {
      "text/plain": [
       "<Axes: xlabel='ratio', ylabel='mortgage_amount'>"
      ]
     },
     "execution_count": 19,
     "metadata": {},
     "output_type": "execute_result"
    },
    {
     "data": {
      "image/png": "[encoded data removed]",
      "text/plain": [
       "<Figure size 1200x700 with 1 Axes>"
      ]
     },
     "metadata": {},
     "output_type": "display_data"
    }
   ],
   "source": [
    "plt.figure(figsize=(12, 7))\n",
    "sns.scatterplot(x='ratio',y='mortgage_amount',data=df)"
   ]
  },
  {
   "cell_type": "code",
   "execution_count": 20,
   "metadata": {
    "execution": {
     "iopub.execute_input": "2024-07-19T02:25:10.664059Z",
     "iopub.status.busy": "2024-07-19T02:25:10.663681Z",
     "iopub.status.idle": "2024-07-19T02:25:10.669873Z",
     "shell.execute_reply": "2024-07-19T02:25:10.668612Z",
     "shell.execute_reply.started": "2024-07-19T02:25:10.664025Z"
    },
    "id": "QJZVKtcoz-gH",
    "trusted": true
   },
   "outputs": [],
   "source": [
    "def setRatio(df):\n",
    "  ratio = df[0]\n",
    "  if pd.isnull(ratio):\n",
    "    return np.mean(ratio)\n",
    "  else:\n",
    "    return ratio"
   ]
  },
  {
   "cell_type": "code",
   "execution_count": 21,
   "metadata": {
    "execution": {
     "iopub.execute_input": "2024-07-19T02:25:10.671688Z",
     "iopub.status.busy": "2024-07-19T02:25:10.671313Z",
     "iopub.status.idle": "2024-07-19T02:25:10.688142Z",
     "shell.execute_reply": "2024-07-19T02:25:10.686796Z",
     "shell.execute_reply.started": "2024-07-19T02:25:10.671657Z"
    },
    "id": "M6qxQCisz-gH",
    "trusted": true
   },
   "outputs": [],
   "source": [
    "def setRecentCredit(df):\n",
    "  recent_credit = df[0]\n",
    "  if pd.isnull(recent_credit):\n",
    "    return np.median(recent_credit)\n",
    "  else:\n",
    "    return recent_credit"
   ]
  },
  {
   "cell_type": "code",
   "execution_count": 22,
   "metadata": {
    "execution": {
     "iopub.execute_input": "2024-07-19T02:25:10.689977Z",
     "iopub.status.busy": "2024-07-19T02:25:10.689637Z",
     "iopub.status.idle": "2024-07-19T02:25:10.699372Z",
     "shell.execute_reply": "2024-07-19T02:25:10.698253Z",
     "shell.execute_reply.started": "2024-07-19T02:25:10.689946Z"
    },
    "id": "3pBR8d58z-gH",
    "trusted": true
   },
   "outputs": [],
   "source": [
    "def setCreditNumber(df):\n",
    "  credit_number = df[0]\n",
    "  if pd.isnull(credit_number):\n",
    "    return np.median(credit_number)\n",
    "  else:\n",
    "    return credit_number"
   ]
  },
  {
   "cell_type": "code",
   "execution_count": null,
   "metadata": {
    "execution": {
     "iopub.execute_input": "2024-07-19T02:25:10.701387Z",
     "iopub.status.busy": "2024-07-19T02:25:10.700999Z",
     "iopub.status.idle": "2024-07-19T02:25:13.568651Z",
     "shell.execute_reply": "2024-07-19T02:25:13.567487Z",
     "shell.execute_reply.started": "2024-07-19T02:25:10.701352Z"
    },
    "id": "94a9ryFBz-gH",
    "trusted": true
   },
   "outputs": [],
   "source": [
    "def Handle_missing(df):\n",
    "    df['occupation'] = df[['occupation','loan_reason','loan_amount']].apply(setOccupation, axis = 1)\n",
    "\n",
    "    df['loan_reason'] = df[['occupation','loan_reason','loan_amount']].apply(setLoanReason, axis = 1)\n",
    "\n",
    "    df['mortgage_amount'] = df[['mortgage_amount','property_value']].apply(setMortgage, axis = 1)\n",
    "\n",
    "    df['property_value'] = df[['mortgage_amount','property_value']].apply(setProperty, axis = 1)\n",
    "\n",
    "    df['occupation_length'] = df[['occupation','occupation_length']].apply(setOccupationLength, axis = 1)\n",
    "\n",
    "    df['late_payments'] = df[['derogatory_reports','late_payments']].apply(setPayments, axis = 1)\n",
    "\n",
    "    df['derogatory_reports'] = df[['derogatory_reports','late_payments']].apply(derogatoryReports, axis = 1)\n",
    "\n",
    "    df['oldest_credit_line'] = df[['oldest_credit_line','credit_number']].apply(setOldestCreditLine, axis = 1)\n",
    "\n",
    "    df['ratio'] = df[['ratio','mortgage_amount']].apply(setRatio, axis = 1)\n",
    "\n",
    "    df['recent_credit'] = df[['recent_credit','credit_number']].apply(setRecentCredit, axis = 1)\n",
    "\n",
    "    df['credit_number'] = df[['credit_number','recent_credit']].apply(setCreditNumber, axis = 1)\n",
    "\n",
    "    return df\n",
    "\n",
    "df = Handle_missing(df)"
   ]
  },
  {
   "cell_type": "code",
   "execution_count": 24,
   "metadata": {
    "colab": {
     "base_uri": "https://localhost:8080/"
    },
    "execution": {
     "iopub.execute_input": "2024-07-19T02:25:13.570391Z",
     "iopub.status.busy": "2024-07-19T02:25:13.570000Z",
     "iopub.status.idle": "2024-07-19T02:25:13.582049Z",
     "shell.execute_reply": "2024-07-19T02:25:13.580730Z",
     "shell.execute_reply.started": "2024-07-19T02:25:13.570351Z"
    },
    "id": "qOd2xZLMz-gH",
    "outputId": "ded9942b-3056-4618-8c0e-1467d3ce0c47",
    "trusted": true
   },
   "outputs": [
    {
     "name": "stdout",
     "output_type": "stream",
     "text": [
      "id                       0\n",
      "default                  0\n",
      "loan_amount              0\n",
      "mortgage_amount         22\n",
      "property_value          22\n",
      "loan_reason              0\n",
      "occupation               0\n",
      "occupation_length        0\n",
      "derogatory_reports      37\n",
      "late_payments            0\n",
      "oldest_credit_line       0\n",
      "recent_credit          436\n",
      "credit_number          196\n",
      "ratio                 1113\n",
      "dtype: int64\n"
     ]
    }
   ],
   "source": [
    "print(df.isnull().sum())\n"
   ]
  },
  {
   "cell_type": "code",
   "execution_count": 25,
   "metadata": {
    "execution": {
     "iopub.execute_input": "2024-07-19T02:25:13.583993Z",
     "iopub.status.busy": "2024-07-19T02:25:13.583662Z",
     "iopub.status.idle": "2024-07-19T02:25:13.606692Z",
     "shell.execute_reply": "2024-07-19T02:25:13.605400Z",
     "shell.execute_reply.started": "2024-07-19T02:25:13.583965Z"
    },
    "id": "pHqefs2Nz-gH",
    "trusted": true
   },
   "outputs": [],
   "source": [
    "import pandas as pd\n",
    "\n",
    "# Assuming df is your DataFrame\n",
    "# Calculate median for selected columns\n",
    "median_values = df[['mortgage_amount', 'property_value', 'derogatory_reports',\n",
    "                    'late_payments', 'oldest_credit_line', 'recent_credit',\n",
    "                    'credit_number', 'ratio']].median()\n",
    "\n",
    "# Replace NaNs with the median value in each column\n",
    "df[['mortgage_amount', 'property_value', 'derogatory_reports',\n",
    "    'late_payments', 'oldest_credit_line', 'recent_credit',\n",
    "    'credit_number', 'ratio']] = df[['mortgage_amount', 'property_value', 'derogatory_reports',\n",
    "                                     'late_payments', 'oldest_credit_line', 'recent_credit',\n",
    "                                     'credit_number', 'ratio']].fillna(median_values)\n"
   ]
  },
  {
   "cell_type": "code",
   "execution_count": 26,
   "metadata": {
    "colab": {
     "base_uri": "https://localhost:8080/"
    },
    "execution": {
     "iopub.execute_input": "2024-07-19T02:25:13.608870Z",
     "iopub.status.busy": "2024-07-19T02:25:13.608424Z",
     "iopub.status.idle": "2024-07-19T02:25:13.620402Z",
     "shell.execute_reply": "2024-07-19T02:25:13.619145Z",
     "shell.execute_reply.started": "2024-07-19T02:25:13.608827Z"
    },
    "id": "a_ckx5IWz-gH",
    "outputId": "c8cda81a-d1c7-437f-de88-56dc93ebab7c",
    "trusted": true
   },
   "outputs": [
    {
     "name": "stdout",
     "output_type": "stream",
     "text": [
      "id                    0\n",
      "default               0\n",
      "loan_amount           0\n",
      "mortgage_amount       0\n",
      "property_value        0\n",
      "loan_reason           0\n",
      "occupation            0\n",
      "occupation_length     0\n",
      "derogatory_reports    0\n",
      "late_payments         0\n",
      "oldest_credit_line    0\n",
      "recent_credit         0\n",
      "credit_number         0\n",
      "ratio                 0\n",
      "dtype: int64\n"
     ]
    }
   ],
   "source": [
    "print(df.isnull().sum())"
   ]
  },
  {
   "cell_type": "code",
   "execution_count": 27,
   "metadata": {
    "colab": {
     "base_uri": "https://localhost:8080/"
    },
    "execution": {
     "iopub.execute_input": "2024-07-19T02:25:13.622621Z",
     "iopub.status.busy": "2024-07-19T02:25:13.622178Z",
     "iopub.status.idle": "2024-07-19T02:25:13.641671Z",
     "shell.execute_reply": "2024-07-19T02:25:13.640227Z",
     "shell.execute_reply.started": "2024-07-19T02:25:13.622588Z"
    },
    "id": "kOvoZTDg3Nf_",
    "outputId": "d846732d-e877-4770-d235-a2f0fd665e89",
    "trusted": true
   },
   "outputs": [
    {
     "name": "stdout",
     "output_type": "stream",
     "text": [
      "      id  default  loan_amount  mortgage_amount  property_value loan_reason  \\\n",
      "0  16537        0        20900          58299.0        78684.00     DebtCon   \n",
      "1  14800        0        17400          56111.0       114521.00     HomeImp   \n",
      "2  11317        0         8700          57254.0        86883.00     HomeImp   \n",
      "3  13023        0         6000          69876.0        94394.07     HomeImp   \n",
      "4  11652        0         9700          75566.0        92066.00     DebtCon   \n",
      "\n",
      "  occupation  occupation_length  derogatory_reports  late_payments  \\\n",
      "0        Mgr                3.0                 0.0            0.0   \n",
      "1     Office                2.0                 2.0            2.0   \n",
      "2      Other               16.0                 0.0            0.0   \n",
      "3      Other                0.0                 0.0            1.0   \n",
      "4     Office               14.0                 0.0            0.0   \n",
      "\n",
      "   oldest_credit_line  recent_credit  credit_number      ratio  \n",
      "0           98.662820            0.0           16.0  38.972004  \n",
      "1          154.855524            1.0           24.0  38.695084  \n",
      "2          172.166563            0.0           28.0  25.043437  \n",
      "3          179.566667            0.0           32.0  34.889242  \n",
      "4           94.987922            0.0            8.0  25.161183  \n"
     ]
    }
   ],
   "source": [
    "print(df.head())"
   ]
  },
  {
   "cell_type": "code",
   "execution_count": 28,
   "metadata": {
    "colab": {
     "base_uri": "https://localhost:8080/",
     "height": 226
    },
    "execution": {
     "iopub.execute_input": "2024-07-19T02:25:13.644001Z",
     "iopub.status.busy": "2024-07-19T02:25:13.643550Z",
     "iopub.status.idle": "2024-07-19T02:25:13.672640Z",
     "shell.execute_reply": "2024-07-19T02:25:13.671414Z",
     "shell.execute_reply.started": "2024-07-19T02:25:13.643956Z"
    },
    "id": "KzItcQLyz-gI",
    "outputId": "45e787dc-51f8-4b28-b083-8dac7ab5e9d6",
    "trusted": true
   },
   "outputs": [
    {
     "data": {
      "text/html": [
       "<div>\n",
       "<style scoped>\n",
       "    .dataframe tbody tr th:only-of-type {\n",
       "        vertical-align: middle;\n",
       "    }\n",
       "\n",
       "    .dataframe tbody tr th {\n",
       "        vertical-align: top;\n",
       "    }\n",
       "\n",
       "    .dataframe thead th {\n",
       "        text-align: right;\n",
       "    }\n",
       "</style>\n",
       "<table border=\"1\" class=\"dataframe\">\n",
       "  <thead>\n",
       "    <tr style=\"text-align: right;\">\n",
       "      <th></th>\n",
       "      <th>id</th>\n",
       "      <th>default</th>\n",
       "      <th>loan_amount</th>\n",
       "      <th>mortgage_amount</th>\n",
       "      <th>property_value</th>\n",
       "      <th>loan_reason</th>\n",
       "      <th>occupation</th>\n",
       "      <th>occupation_length</th>\n",
       "      <th>derogatory_reports</th>\n",
       "      <th>late_payments</th>\n",
       "      <th>oldest_credit_line</th>\n",
       "      <th>recent_credit</th>\n",
       "      <th>credit_number</th>\n",
       "      <th>ratio</th>\n",
       "    </tr>\n",
       "  </thead>\n",
       "  <tbody>\n",
       "    <tr>\n",
       "      <th>0</th>\n",
       "      <td>16537</td>\n",
       "      <td>0</td>\n",
       "      <td>20900</td>\n",
       "      <td>58299.0</td>\n",
       "      <td>78684.00</td>\n",
       "      <td>DebtCon</td>\n",
       "      <td>Mgr</td>\n",
       "      <td>3.0</td>\n",
       "      <td>0.0</td>\n",
       "      <td>0.0</td>\n",
       "      <td>98.662820</td>\n",
       "      <td>0.0</td>\n",
       "      <td>16.0</td>\n",
       "      <td>38.972004</td>\n",
       "    </tr>\n",
       "    <tr>\n",
       "      <th>1</th>\n",
       "      <td>14800</td>\n",
       "      <td>0</td>\n",
       "      <td>17400</td>\n",
       "      <td>56111.0</td>\n",
       "      <td>114521.00</td>\n",
       "      <td>HomeImp</td>\n",
       "      <td>Office</td>\n",
       "      <td>2.0</td>\n",
       "      <td>2.0</td>\n",
       "      <td>2.0</td>\n",
       "      <td>154.855524</td>\n",
       "      <td>1.0</td>\n",
       "      <td>24.0</td>\n",
       "      <td>38.695084</td>\n",
       "    </tr>\n",
       "    <tr>\n",
       "      <th>2</th>\n",
       "      <td>11317</td>\n",
       "      <td>0</td>\n",
       "      <td>8700</td>\n",
       "      <td>57254.0</td>\n",
       "      <td>86883.00</td>\n",
       "      <td>HomeImp</td>\n",
       "      <td>Other</td>\n",
       "      <td>16.0</td>\n",
       "      <td>0.0</td>\n",
       "      <td>0.0</td>\n",
       "      <td>172.166563</td>\n",
       "      <td>0.0</td>\n",
       "      <td>28.0</td>\n",
       "      <td>25.043437</td>\n",
       "    </tr>\n",
       "    <tr>\n",
       "      <th>3</th>\n",
       "      <td>13023</td>\n",
       "      <td>0</td>\n",
       "      <td>6000</td>\n",
       "      <td>69876.0</td>\n",
       "      <td>94394.07</td>\n",
       "      <td>HomeImp</td>\n",
       "      <td>Other</td>\n",
       "      <td>0.0</td>\n",
       "      <td>0.0</td>\n",
       "      <td>1.0</td>\n",
       "      <td>179.566667</td>\n",
       "      <td>0.0</td>\n",
       "      <td>32.0</td>\n",
       "      <td>34.889242</td>\n",
       "    </tr>\n",
       "    <tr>\n",
       "      <th>4</th>\n",
       "      <td>11652</td>\n",
       "      <td>0</td>\n",
       "      <td>9700</td>\n",
       "      <td>75566.0</td>\n",
       "      <td>92066.00</td>\n",
       "      <td>DebtCon</td>\n",
       "      <td>Office</td>\n",
       "      <td>14.0</td>\n",
       "      <td>0.0</td>\n",
       "      <td>0.0</td>\n",
       "      <td>94.987922</td>\n",
       "      <td>0.0</td>\n",
       "      <td>8.0</td>\n",
       "      <td>25.161183</td>\n",
       "    </tr>\n",
       "  </tbody>\n",
       "</table>\n",
       "</div>"
      ],
      "text/plain": [
       "      id  default  loan_amount  mortgage_amount  property_value loan_reason  \\\n",
       "0  16537        0        20900          58299.0        78684.00     DebtCon   \n",
       "1  14800        0        17400          56111.0       114521.00     HomeImp   \n",
       "2  11317        0         8700          57254.0        86883.00     HomeImp   \n",
       "3  13023        0         6000          69876.0        94394.07     HomeImp   \n",
       "4  11652        0         9700          75566.0        92066.00     DebtCon   \n",
       "\n",
       "  occupation  occupation_length  derogatory_reports  late_payments  \\\n",
       "0        Mgr                3.0                 0.0            0.0   \n",
       "1     Office                2.0                 2.0            2.0   \n",
       "2      Other               16.0                 0.0            0.0   \n",
       "3      Other                0.0                 0.0            1.0   \n",
       "4     Office               14.0                 0.0            0.0   \n",
       "\n",
       "   oldest_credit_line  recent_credit  credit_number      ratio  \n",
       "0           98.662820            0.0           16.0  38.972004  \n",
       "1          154.855524            1.0           24.0  38.695084  \n",
       "2          172.166563            0.0           28.0  25.043437  \n",
       "3          179.566667            0.0           32.0  34.889242  \n",
       "4           94.987922            0.0            8.0  25.161183  "
      ]
     },
     "execution_count": 28,
     "metadata": {},
     "output_type": "execute_result"
    }
   ],
   "source": [
    "df.head()"
   ]
  },
  {
   "cell_type": "code",
   "execution_count": 29,
   "metadata": {
    "execution": {
     "iopub.execute_input": "2024-07-19T02:25:13.682582Z",
     "iopub.status.busy": "2024-07-19T02:25:13.682151Z",
     "iopub.status.idle": "2024-07-19T02:25:13.697871Z",
     "shell.execute_reply": "2024-07-19T02:25:13.696864Z",
     "shell.execute_reply.started": "2024-07-19T02:25:13.682548Z"
    },
    "id": "7AwCybuyz-gI",
    "trusted": true
   },
   "outputs": [],
   "source": [
    "le = LabelEncoder()\n",
    "df['loan_reason'] = le.fit_transform(df['loan_reason'])\n",
    "\n",
    "cols_to_scale = ['loan_amount', 'mortgage_amount', 'property_value', 'oldest_credit_line','ratio', 'occupation_length', 'derogatory_reports']\n",
    "scaler = StandardScaler()\n",
    "df[cols_to_scale] = scaler.fit_transform(df[cols_to_scale])"
   ]
  },
  {
   "cell_type": "code",
   "execution_count": 30,
   "metadata": {
    "colab": {
     "base_uri": "https://localhost:8080/",
     "height": 226
    },
    "execution": {
     "iopub.execute_input": "2024-07-19T02:25:13.699777Z",
     "iopub.status.busy": "2024-07-19T02:25:13.699445Z",
     "iopub.status.idle": "2024-07-19T02:25:13.739274Z",
     "shell.execute_reply": "2024-07-19T02:25:13.737584Z",
     "shell.execute_reply.started": "2024-07-19T02:25:13.699749Z"
    },
    "id": "XVw6wqLsY0oS",
    "outputId": "341c8004-c896-4f3a-d82e-f2dca4c6d8e1",
    "trusted": true
   },
   "outputs": [
    {
     "data": {
      "text/html": [
       "<div>\n",
       "<style scoped>\n",
       "    .dataframe tbody tr th:only-of-type {\n",
       "        vertical-align: middle;\n",
       "    }\n",
       "\n",
       "    .dataframe tbody tr th {\n",
       "        vertical-align: top;\n",
       "    }\n",
       "\n",
       "    .dataframe thead th {\n",
       "        text-align: right;\n",
       "    }\n",
       "</style>\n",
       "<table border=\"1\" class=\"dataframe\">\n",
       "  <thead>\n",
       "    <tr style=\"text-align: right;\">\n",
       "      <th></th>\n",
       "      <th>id</th>\n",
       "      <th>default</th>\n",
       "      <th>loan_amount</th>\n",
       "      <th>mortgage_amount</th>\n",
       "      <th>property_value</th>\n",
       "      <th>loan_reason</th>\n",
       "      <th>occupation_length</th>\n",
       "      <th>derogatory_reports</th>\n",
       "      <th>late_payments</th>\n",
       "      <th>oldest_credit_line</th>\n",
       "      <th>recent_credit</th>\n",
       "      <th>credit_number</th>\n",
       "      <th>ratio</th>\n",
       "      <th>occupation_Mgr</th>\n",
       "      <th>occupation_Office</th>\n",
       "      <th>occupation_Other</th>\n",
       "      <th>occupation_ProfExe</th>\n",
       "      <th>occupation_Sales</th>\n",
       "      <th>occupation_Self</th>\n",
       "    </tr>\n",
       "  </thead>\n",
       "  <tbody>\n",
       "    <tr>\n",
       "      <th>0</th>\n",
       "      <td>16537</td>\n",
       "      <td>0</td>\n",
       "      <td>0.194200</td>\n",
       "      <td>-0.290811</td>\n",
       "      <td>-0.404656</td>\n",
       "      <td>0</td>\n",
       "      <td>-0.800148</td>\n",
       "      <td>-0.426743</td>\n",
       "      <td>0.0</td>\n",
       "      <td>-0.977937</td>\n",
       "      <td>0.0</td>\n",
       "      <td>16.0</td>\n",
       "      <td>0.640508</td>\n",
       "      <td>1.0</td>\n",
       "      <td>0.0</td>\n",
       "      <td>0.0</td>\n",
       "      <td>0.0</td>\n",
       "      <td>0.0</td>\n",
       "      <td>0.0</td>\n",
       "    </tr>\n",
       "    <tr>\n",
       "      <th>1</th>\n",
       "      <td>14800</td>\n",
       "      <td>0</td>\n",
       "      <td>-0.115025</td>\n",
       "      <td>-0.339033</td>\n",
       "      <td>0.223520</td>\n",
       "      <td>1</td>\n",
       "      <td>-0.938406</td>\n",
       "      <td>0.441101</td>\n",
       "      <td>2.0</td>\n",
       "      <td>-0.296802</td>\n",
       "      <td>1.0</td>\n",
       "      <td>24.0</td>\n",
       "      <td>0.604520</td>\n",
       "      <td>0.0</td>\n",
       "      <td>1.0</td>\n",
       "      <td>0.0</td>\n",
       "      <td>0.0</td>\n",
       "      <td>0.0</td>\n",
       "      <td>0.0</td>\n",
       "    </tr>\n",
       "    <tr>\n",
       "      <th>2</th>\n",
       "      <td>11317</td>\n",
       "      <td>0</td>\n",
       "      <td>-0.883671</td>\n",
       "      <td>-0.313842</td>\n",
       "      <td>-0.260938</td>\n",
       "      <td>1</td>\n",
       "      <td>0.997201</td>\n",
       "      <td>-0.426743</td>\n",
       "      <td>0.0</td>\n",
       "      <td>-0.086967</td>\n",
       "      <td>0.0</td>\n",
       "      <td>28.0</td>\n",
       "      <td>-1.169625</td>\n",
       "      <td>0.0</td>\n",
       "      <td>0.0</td>\n",
       "      <td>1.0</td>\n",
       "      <td>0.0</td>\n",
       "      <td>0.0</td>\n",
       "      <td>0.0</td>\n",
       "    </tr>\n",
       "    <tr>\n",
       "      <th>3</th>\n",
       "      <td>13023</td>\n",
       "      <td>0</td>\n",
       "      <td>-1.122217</td>\n",
       "      <td>-0.035659</td>\n",
       "      <td>-0.129279</td>\n",
       "      <td>1</td>\n",
       "      <td>-1.214921</td>\n",
       "      <td>-0.426743</td>\n",
       "      <td>1.0</td>\n",
       "      <td>0.002732</td>\n",
       "      <td>0.0</td>\n",
       "      <td>32.0</td>\n",
       "      <td>0.109919</td>\n",
       "      <td>0.0</td>\n",
       "      <td>0.0</td>\n",
       "      <td>1.0</td>\n",
       "      <td>0.0</td>\n",
       "      <td>0.0</td>\n",
       "      <td>0.0</td>\n",
       "    </tr>\n",
       "    <tr>\n",
       "      <th>4</th>\n",
       "      <td>11652</td>\n",
       "      <td>0</td>\n",
       "      <td>-0.795321</td>\n",
       "      <td>0.089746</td>\n",
       "      <td>-0.170087</td>\n",
       "      <td>0</td>\n",
       "      <td>0.720686</td>\n",
       "      <td>-0.426743</td>\n",
       "      <td>0.0</td>\n",
       "      <td>-1.022482</td>\n",
       "      <td>0.0</td>\n",
       "      <td>8.0</td>\n",
       "      <td>-1.154322</td>\n",
       "      <td>0.0</td>\n",
       "      <td>1.0</td>\n",
       "      <td>0.0</td>\n",
       "      <td>0.0</td>\n",
       "      <td>0.0</td>\n",
       "      <td>0.0</td>\n",
       "    </tr>\n",
       "  </tbody>\n",
       "</table>\n",
       "</div>"
      ],
      "text/plain": [
       "      id  default  loan_amount  mortgage_amount  property_value  loan_reason  \\\n",
       "0  16537        0     0.194200        -0.290811       -0.404656            0   \n",
       "1  14800        0    -0.115025        -0.339033        0.223520            1   \n",
       "2  11317        0    -0.883671        -0.313842       -0.260938            1   \n",
       "3  13023        0    -1.122217        -0.035659       -0.129279            1   \n",
       "4  11652        0    -0.795321         0.089746       -0.170087            0   \n",
       "\n",
       "   occupation_length  derogatory_reports  late_payments  oldest_credit_line  \\\n",
       "0          -0.800148           -0.426743            0.0           -0.977937   \n",
       "1          -0.938406            0.441101            2.0           -0.296802   \n",
       "2           0.997201           -0.426743            0.0           -0.086967   \n",
       "3          -1.214921           -0.426743            1.0            0.002732   \n",
       "4           0.720686           -0.426743            0.0           -1.022482   \n",
       "\n",
       "   recent_credit  credit_number     ratio  occupation_Mgr  occupation_Office  \\\n",
       "0            0.0           16.0  0.640508             1.0                0.0   \n",
       "1            1.0           24.0  0.604520             0.0                1.0   \n",
       "2            0.0           28.0 -1.169625             0.0                0.0   \n",
       "3            0.0           32.0  0.109919             0.0                0.0   \n",
       "4            0.0            8.0 -1.154322             0.0                1.0   \n",
       "\n",
       "   occupation_Other  occupation_ProfExe  occupation_Sales  occupation_Self  \n",
       "0               0.0                 0.0               0.0              0.0  \n",
       "1               0.0                 0.0               0.0              0.0  \n",
       "2               1.0                 0.0               0.0              0.0  \n",
       "3               1.0                 0.0               0.0              0.0  \n",
       "4               0.0                 0.0               0.0              0.0  "
      ]
     },
     "execution_count": 30,
     "metadata": {},
     "output_type": "execute_result"
    }
   ],
   "source": [
    "encoder = OneHotEncoder()\n",
    "one_hot_encoded = encoder.fit_transform(df[['occupation']]).toarray()\n",
    "one_hot_df = pd.DataFrame(one_hot_encoded, columns=encoder.get_feature_names_out(['occupation']))\n",
    "df = pd.concat([df, one_hot_df], axis=1)\n",
    "df = df.drop('occupation', axis=1)\n",
    "\n",
    "df.head()"
   ]
  },
  {
   "cell_type": "code",
   "execution_count": 32,
   "metadata": {
    "execution": {
     "iopub.execute_input": "2024-07-19T02:25:13.894436Z",
     "iopub.status.busy": "2024-07-19T02:25:13.893931Z",
     "iopub.status.idle": "2024-07-19T02:25:13.901761Z",
     "shell.execute_reply": "2024-07-19T02:25:13.900506Z",
     "shell.execute_reply.started": "2024-07-19T02:25:13.894381Z"
    },
    "id": "DzJEjZfWz-gI",
    "trusted": true
   },
   "outputs": [],
   "source": [
    "X = df.iloc[:,2:]\n",
    "y = df.iloc[:,1]"
   ]
  },
  {
   "cell_type": "code",
   "execution_count": 33,
   "metadata": {
    "colab": {
     "base_uri": "https://localhost:8080/"
    },
    "execution": {
     "iopub.execute_input": "2024-07-19T02:25:13.903806Z",
     "iopub.status.busy": "2024-07-19T02:25:13.903363Z",
     "iopub.status.idle": "2024-07-19T02:25:13.926338Z",
     "shell.execute_reply": "2024-07-19T02:25:13.925138Z",
     "shell.execute_reply.started": "2024-07-19T02:25:13.903775Z"
    },
    "id": "lUh09aFPz-gI",
    "outputId": "799f8496-d4a6-4f29-bcf3-506e0c9ae9ba",
    "trusted": true
   },
   "outputs": [
    {
     "name": "stdout",
     "output_type": "stream",
     "text": [
      "      id  default  loan_amount  mortgage_amount  property_value  loan_reason  \\\n",
      "0  16537        0     0.194200        -0.290811       -0.404656            0   \n",
      "1  14800        0    -0.115025        -0.339033        0.223520            1   \n",
      "2  11317        0    -0.883671        -0.313842       -0.260938            1   \n",
      "3  13023        0    -1.122217        -0.035659       -0.129279            1   \n",
      "4  11652        0    -0.795321         0.089746       -0.170087            0   \n",
      "\n",
      "   occupation_length  derogatory_reports  late_payments  oldest_credit_line  \\\n",
      "0          -0.800148           -0.426743            0.0           -0.977937   \n",
      "1          -0.938406            0.441101            2.0           -0.296802   \n",
      "2           0.997201           -0.426743            0.0           -0.086967   \n",
      "3          -1.214921           -0.426743            1.0            0.002732   \n",
      "4           0.720686           -0.426743            0.0           -1.022482   \n",
      "\n",
      "   recent_credit  credit_number     ratio  occupation_Mgr  occupation_Office  \\\n",
      "0            0.0           16.0  0.640508             1.0                0.0   \n",
      "1            1.0           24.0  0.604520             0.0                1.0   \n",
      "2            0.0           28.0 -1.169625             0.0                0.0   \n",
      "3            0.0           32.0  0.109919             0.0                0.0   \n",
      "4            0.0            8.0 -1.154322             0.0                1.0   \n",
      "\n",
      "   occupation_Other  occupation_ProfExe  occupation_Sales  occupation_Self  \n",
      "0               0.0                 0.0               0.0              0.0  \n",
      "1               0.0                 0.0               0.0              0.0  \n",
      "2               1.0                 0.0               0.0              0.0  \n",
      "3               1.0                 0.0               0.0              0.0  \n",
      "4               0.0                 0.0               0.0              0.0  \n"
     ]
    }
   ],
   "source": [
    "print(df.head())"
   ]
  },
  {
   "cell_type": "code",
   "execution_count": 34,
   "metadata": {
    "execution": {
     "iopub.execute_input": "2024-07-19T02:25:13.928149Z",
     "iopub.status.busy": "2024-07-19T02:25:13.927777Z",
     "iopub.status.idle": "2024-07-19T02:25:13.940469Z",
     "shell.execute_reply": "2024-07-19T02:25:13.939395Z",
     "shell.execute_reply.started": "2024-07-19T02:25:13.928117Z"
    },
    "id": "XAY_l9XEz-gI",
    "trusted": true
   },
   "outputs": [],
   "source": [
    "X_train, X_test, y_train, y_test = train_test_split(X, y, test_size=0.1, random_state=42)\n"
   ]
  },
  {
   "cell_type": "code",
   "execution_count": 35,
   "metadata": {
    "colab": {
     "base_uri": "https://localhost:8080/",
     "height": 117
    },
    "execution": {
     "iopub.execute_input": "2024-07-19T02:25:13.942405Z",
     "iopub.status.busy": "2024-07-19T02:25:13.941985Z",
     "iopub.status.idle": "2024-07-19T02:25:57.188658Z",
     "shell.execute_reply": "2024-07-19T02:25:57.187192Z",
     "shell.execute_reply.started": "2024-07-19T02:25:13.942366Z"
    },
    "id": "NRMkQLwVz-gI",
    "outputId": "335f29b2-a349-436e-8d28-a1605893e774",
    "trusted": true
   },
   "outputs": [
    {
     "data": {
      "text/html": [
       "<style>#sk-container-id-1 {\n",
       "  /* Definition of color scheme common for light and dark mode */\n",
       "  --sklearn-color-text: #000;\n",
       "  --sklearn-color-text-muted: #666;\n",
       "  --sklearn-color-line: gray;\n",
       "  /* Definition of color scheme for unfitted estimators */\n",
       "  --sklearn-color-unfitted-level-0: #fff5e6;\n",
       "  --sklearn-color-unfitted-level-1: #f6e4d2;\n",
       "  --sklearn-color-unfitted-level-2: #ffe0b3;\n",
       "  --sklearn-color-unfitted-level-3: chocolate;\n",
       "  /* Definition of color scheme for fitted estimators */\n",
       "  --sklearn-color-fitted-level-0: #f0f8ff;\n",
       "  --sklearn-color-fitted-level-1: #d4ebff;\n",
       "  --sklearn-color-fitted-level-2: #b3dbfd;\n",
       "  --sklearn-color-fitted-level-3: cornflowerblue;\n",
       "\n",
       "  /* Specific color for light theme */\n",
       "  --sklearn-color-text-on-default-background: var(--sg-text-color, var(--theme-code-foreground, var(--jp-content-font-color1, black)));\n",
       "  --sklearn-color-background: var(--sg-background-color, var(--theme-background, var(--jp-layout-color0, white)));\n",
       "  --sklearn-color-border-box: var(--sg-text-color, var(--theme-code-foreground, var(--jp-content-font-color1, black)));\n",
       "  --sklearn-color-icon: #696969;\n",
       "\n",
       "  @media (prefers-color-scheme: dark) {\n",
       "    /* Redefinition of color scheme for dark theme */\n",
       "    --sklearn-color-text-on-default-background: var(--sg-text-color, var(--theme-code-foreground, var(--jp-content-font-color1, white)));\n",
       "    --sklearn-color-background: var(--sg-background-color, var(--theme-background, var(--jp-layout-color0, #111)));\n",
       "    --sklearn-color-border-box: var(--sg-text-color, var(--theme-code-foreground, var(--jp-content-font-color1, white)));\n",
       "    --sklearn-color-icon: #878787;\n",
       "  }\n",
       "}\n",
       "\n",
       "#sk-container-id-1 {\n",
       "  color: var(--sklearn-color-text);\n",
       "}\n",
       "\n",
       "#sk-container-id-1 pre {\n",
       "  padding: 0;\n",
       "}\n",
       "\n",
       "#sk-container-id-1 input.sk-hidden--visually {\n",
       "  border: 0;\n",
       "  clip: rect(1px 1px 1px 1px);\n",
       "  clip: rect(1px, 1px, 1px, 1px);\n",
       "  height: 1px;\n",
       "  margin: -1px;\n",
       "  overflow: hidden;\n",
       "  padding: 0;\n",
       "  position: absolute;\n",
       "  width: 1px;\n",
       "}\n",
       "\n",
       "#sk-container-id-1 div.sk-dashed-wrapped {\n",
       "  border: 1px dashed var(--sklearn-color-line);\n",
       "  margin: 0 0.4em 0.5em 0.4em;\n",
       "  box-sizing: border-box;\n",
       "  padding-bottom: 0.4em;\n",
       "  background-color: var(--sklearn-color-background);\n",
       "}\n",
       "\n",
       "#sk-container-id-1 div.sk-container {\n",
       "  /* jupyter's `normalize.less` sets `[hidden] { display: none; }`\n",
       "     but bootstrap.min.css set `[hidden] { display: none !important; }`\n",
       "     so we also need the `!important` here to be able to override the\n",
       "     default hidden behavior on the sphinx rendered scikit-learn.org.\n",
       "     See: https://github.com/scikit-learn/scikit-learn/issues/21755 */\n",
       "  display: inline-block !important;\n",
       "  position: relative;\n",
       "}\n",
       "\n",
       "#sk-container-id-1 div.sk-text-repr-fallback {\n",
       "  display: none;\n",
       "}\n",
       "\n",
       "div.sk-parallel-item,\n",
       "div.sk-serial,\n",
       "div.sk-item {\n",
       "  /* draw centered vertical line to link estimators */\n",
       "  background-image: linear-gradient(var(--sklearn-color-text-on-default-background), var(--sklearn-color-text-on-default-background));\n",
       "  background-size: 2px 100%;\n",
       "  background-repeat: no-repeat;\n",
       "  background-position: center center;\n",
       "}\n",
       "\n",
       "/* Parallel-specific style estimator block */\n",
       "\n",
       "#sk-container-id-1 div.sk-parallel-item::after {\n",
       "  content: \"\";\n",
       "  width: 100%;\n",
       "  border-bottom: 2px solid var(--sklearn-color-text-on-default-background);\n",
       "  flex-grow: 1;\n",
       "}\n",
       "\n",
       "#sk-container-id-1 div.sk-parallel {\n",
       "  display: flex;\n",
       "  align-items: stretch;\n",
       "  justify-content: center;\n",
       "  background-color: var(--sklearn-color-background);\n",
       "  position: relative;\n",
       "}\n",
       "\n",
       "#sk-container-id-1 div.sk-parallel-item {\n",
       "  display: flex;\n",
       "  flex-direction: column;\n",
       "}\n",
       "\n",
       "#sk-container-id-1 div.sk-parallel-item:first-child::after {\n",
       "  align-self: flex-end;\n",
       "  width: 50%;\n",
       "}\n",
       "\n",
       "#sk-container-id-1 div.sk-parallel-item:last-child::after {\n",
       "  align-self: flex-start;\n",
       "  width: 50%;\n",
       "}\n",
       "\n",
       "#sk-container-id-1 div.sk-parallel-item:only-child::after {\n",
       "  width: 0;\n",
       "}\n",
       "\n",
       "/* Serial-specific style estimator block */\n",
       "\n",
       "#sk-container-id-1 div.sk-serial {\n",
       "  display: flex;\n",
       "  flex-direction: column;\n",
       "  align-items: center;\n",
       "  background-color: var(--sklearn-color-background);\n",
       "  padding-right: 1em;\n",
       "  padding-left: 1em;\n",
       "}\n",
       "\n",
       "\n",
       "/* Toggleable style: style used for estimator/Pipeline/ColumnTransformer box that is\n",
       "clickable and can be expanded/collapsed.\n",
       "- Pipeline and ColumnTransformer use this feature and define the default style\n",
       "- Estimators will overwrite some part of the style using the `sk-estimator` class\n",
       "*/\n",
       "\n",
       "/* Pipeline and ColumnTransformer style (default) */\n",
       "\n",
       "#sk-container-id-1 div.sk-toggleable {\n",
       "  /* Default theme specific background. It is overwritten whether we have a\n",
       "  specific estimator or a Pipeline/ColumnTransformer */\n",
       "  background-color: var(--sklearn-color-background);\n",
       "}\n",
       "\n",
       "/* Toggleable label */\n",
       "#sk-container-id-1 label.sk-toggleable__label {\n",
       "  cursor: pointer;\n",
       "  display: flex;\n",
       "  width: 100%;\n",
       "  margin-bottom: 0;\n",
       "  padding: 0.5em;\n",
       "  box-sizing: border-box;\n",
       "  text-align: center;\n",
       "  align-items: start;\n",
       "  justify-content: space-between;\n",
       "  gap: 0.5em;\n",
       "}\n",
       "\n",
       "#sk-container-id-1 label.sk-toggleable__label .caption {\n",
       "  font-size: 0.6rem;\n",
       "  font-weight: lighter;\n",
       "  color: var(--sklearn-color-text-muted);\n",
       "}\n",
       "\n",
       "#sk-container-id-1 label.sk-toggleable__label-arrow:before {\n",
       "  /* Arrow on the left of the label */\n",
       "  content: \"▸\";\n",
       "  float: left;\n",
       "  margin-right: 0.25em;\n",
       "  color: var(--sklearn-color-icon);\n",
       "}\n",
       "\n",
       "#sk-container-id-1 label.sk-toggleable__label-arrow:hover:before {\n",
       "  color: var(--sklearn-color-text);\n",
       "}\n",
       "\n",
       "/* Toggleable content - dropdown */\n",
       "\n",
       "#sk-container-id-1 div.sk-toggleable__content {\n",
       "  max-height: 0;\n",
       "  max-width: 0;\n",
       "  overflow: hidden;\n",
       "  text-align: left;\n",
       "  /* unfitted */\n",
       "  background-color: var(--sklearn-color-unfitted-level-0);\n",
       "}\n",
       "\n",
       "#sk-container-id-1 div.sk-toggleable__content.fitted {\n",
       "  /* fitted */\n",
       "  background-color: var(--sklearn-color-fitted-level-0);\n",
       "}\n",
       "\n",
       "#sk-container-id-1 div.sk-toggleable__content pre {\n",
       "  margin: 0.2em;\n",
       "  border-radius: 0.25em;\n",
       "  color: var(--sklearn-color-text);\n",
       "  /* unfitted */\n",
       "  background-color: var(--sklearn-color-unfitted-level-0);\n",
       "}\n",
       "\n",
       "#sk-container-id-1 div.sk-toggleable__content.fitted pre {\n",
       "  /* unfitted */\n",
       "  background-color: var(--sklearn-color-fitted-level-0);\n",
       "}\n",
       "\n",
       "#sk-container-id-1 input.sk-toggleable__control:checked~div.sk-toggleable__content {\n",
       "  /* Expand drop-down */\n",
       "  max-height: 200px;\n",
       "  max-width: 100%;\n",
       "  overflow: auto;\n",
       "}\n",
       "\n",
       "#sk-container-id-1 input.sk-toggleable__control:checked~label.sk-toggleable__label-arrow:before {\n",
       "  content: \"▾\";\n",
       "}\n",
       "\n",
       "/* Pipeline/ColumnTransformer-specific style */\n",
       "\n",
       "#sk-container-id-1 div.sk-label input.sk-toggleable__control:checked~label.sk-toggleable__label {\n",
       "  color: var(--sklearn-color-text);\n",
       "  background-color: var(--sklearn-color-unfitted-level-2);\n",
       "}\n",
       "\n",
       "#sk-container-id-1 div.sk-label.fitted input.sk-toggleable__control:checked~label.sk-toggleable__label {\n",
       "  background-color: var(--sklearn-color-fitted-level-2);\n",
       "}\n",
       "\n",
       "/* Estimator-specific style */\n",
       "\n",
       "/* Colorize estimator box */\n",
       "#sk-container-id-1 div.sk-estimator input.sk-toggleable__control:checked~label.sk-toggleable__label {\n",
       "  /* unfitted */\n",
       "  background-color: var(--sklearn-color-unfitted-level-2);\n",
       "}\n",
       "\n",
       "#sk-container-id-1 div.sk-estimator.fitted input.sk-toggleable__control:checked~label.sk-toggleable__label {\n",
       "  /* fitted */\n",
       "  background-color: var(--sklearn-color-fitted-level-2);\n",
       "}\n",
       "\n",
       "#sk-container-id-1 div.sk-label label.sk-toggleable__label,\n",
       "#sk-container-id-1 div.sk-label label {\n",
       "  /* The background is the default theme color */\n",
       "  color: var(--sklearn-color-text-on-default-background);\n",
       "}\n",
       "\n",
       "/* On hover, darken the color of the background */\n",
       "#sk-container-id-1 div.sk-label:hover label.sk-toggleable__label {\n",
       "  color: var(--sklearn-color-text);\n",
       "  background-color: var(--sklearn-color-unfitted-level-2);\n",
       "}\n",
       "\n",
       "/* Label box, darken color on hover, fitted */\n",
       "#sk-container-id-1 div.sk-label.fitted:hover label.sk-toggleable__label.fitted {\n",
       "  color: var(--sklearn-color-text);\n",
       "  background-color: var(--sklearn-color-fitted-level-2);\n",
       "}\n",
       "\n",
       "/* Estimator label */\n",
       "\n",
       "#sk-container-id-1 div.sk-label label {\n",
       "  font-family: monospace;\n",
       "  font-weight: bold;\n",
       "  display: inline-block;\n",
       "  line-height: 1.2em;\n",
       "}\n",
       "\n",
       "#sk-container-id-1 div.sk-label-container {\n",
       "  text-align: center;\n",
       "}\n",
       "\n",
       "/* Estimator-specific */\n",
       "#sk-container-id-1 div.sk-estimator {\n",
       "  font-family: monospace;\n",
       "  border: 1px dotted var(--sklearn-color-border-box);\n",
       "  border-radius: 0.25em;\n",
       "  box-sizing: border-box;\n",
       "  margin-bottom: 0.5em;\n",
       "  /* unfitted */\n",
       "  background-color: var(--sklearn-color-unfitted-level-0);\n",
       "}\n",
       "\n",
       "#sk-container-id-1 div.sk-estimator.fitted {\n",
       "  /* fitted */\n",
       "  background-color: var(--sklearn-color-fitted-level-0);\n",
       "}\n",
       "\n",
       "/* on hover */\n",
       "#sk-container-id-1 div.sk-estimator:hover {\n",
       "  /* unfitted */\n",
       "  background-color: var(--sklearn-color-unfitted-level-2);\n",
       "}\n",
       "\n",
       "#sk-container-id-1 div.sk-estimator.fitted:hover {\n",
       "  /* fitted */\n",
       "  background-color: var(--sklearn-color-fitted-level-2);\n",
       "}\n",
       "\n",
       "/* Specification for estimator info (e.g. \"i\" and \"?\") */\n",
       "\n",
       "/* Common style for \"i\" and \"?\" */\n",
       "\n",
       ".sk-estimator-doc-link,\n",
       "a:link.sk-estimator-doc-link,\n",
       "a:visited.sk-estimator-doc-link {\n",
       "  float: right;\n",
       "  font-size: smaller;\n",
       "  line-height: 1em;\n",
       "  font-family: monospace;\n",
       "  background-color: var(--sklearn-color-background);\n",
       "  border-radius: 1em;\n",
       "  height: 1em;\n",
       "  width: 1em;\n",
       "  text-decoration: none !important;\n",
       "  margin-left: 0.5em;\n",
       "  text-align: center;\n",
       "  /* unfitted */\n",
       "  border: var(--sklearn-color-unfitted-level-1) 1pt solid;\n",
       "  color: var(--sklearn-color-unfitted-level-1);\n",
       "}\n",
       "\n",
       ".sk-estimator-doc-link.fitted,\n",
       "a:link.sk-estimator-doc-link.fitted,\n",
       "a:visited.sk-estimator-doc-link.fitted {\n",
       "  /* fitted */\n",
       "  border: var(--sklearn-color-fitted-level-1) 1pt solid;\n",
       "  color: var(--sklearn-color-fitted-level-1);\n",
       "}\n",
       "\n",
       "/* On hover */\n",
       "div.sk-estimator:hover .sk-estimator-doc-link:hover,\n",
       ".sk-estimator-doc-link:hover,\n",
       "div.sk-label-container:hover .sk-estimator-doc-link:hover,\n",
       ".sk-estimator-doc-link:hover {\n",
       "  /* unfitted */\n",
       "  background-color: var(--sklearn-color-unfitted-level-3);\n",
       "  color: var(--sklearn-color-background);\n",
       "  text-decoration: none;\n",
       "}\n",
       "\n",
       "div.sk-estimator.fitted:hover .sk-estimator-doc-link.fitted:hover,\n",
       ".sk-estimator-doc-link.fitted:hover,\n",
       "div.sk-label-container:hover .sk-estimator-doc-link.fitted:hover,\n",
       ".sk-estimator-doc-link.fitted:hover {\n",
       "  /* fitted */\n",
       "  background-color: var(--sklearn-color-fitted-level-3);\n",
       "  color: var(--sklearn-color-background);\n",
       "  text-decoration: none;\n",
       "}\n",
       "\n",
       "/* Span, style for the box shown on hovering the info icon */\n",
       ".sk-estimator-doc-link span {\n",
       "  display: none;\n",
       "  z-index: 9999;\n",
       "  position: relative;\n",
       "  font-weight: normal;\n",
       "  right: .2ex;\n",
       "  padding: .5ex;\n",
       "  margin: .5ex;\n",
       "  width: min-content;\n",
       "  min-width: 20ex;\n",
       "  max-width: 50ex;\n",
       "  color: var(--sklearn-color-text);\n",
       "  box-shadow: 2pt 2pt 4pt #999;\n",
       "  /* unfitted */\n",
       "  background: var(--sklearn-color-unfitted-level-0);\n",
       "  border: .5pt solid var(--sklearn-color-unfitted-level-3);\n",
       "}\n",
       "\n",
       ".sk-estimator-doc-link.fitted span {\n",
       "  /* fitted */\n",
       "  background: var(--sklearn-color-fitted-level-0);\n",
       "  border: var(--sklearn-color-fitted-level-3);\n",
       "}\n",
       "\n",
       ".sk-estimator-doc-link:hover span {\n",
       "  display: block;\n",
       "}\n",
       "\n",
       "/* \"?\"-specific style due to the `<a>` HTML tag */\n",
       "\n",
       "#sk-container-id-1 a.estimator_doc_link {\n",
       "  float: right;\n",
       "  font-size: 1rem;\n",
       "  line-height: 1em;\n",
       "  font-family: monospace;\n",
       "  background-color: var(--sklearn-color-background);\n",
       "  border-radius: 1rem;\n",
       "  height: 1rem;\n",
       "  width: 1rem;\n",
       "  text-decoration: none;\n",
       "  /* unfitted */\n",
       "  color: var(--sklearn-color-unfitted-level-1);\n",
       "  border: var(--sklearn-color-unfitted-level-1) 1pt solid;\n",
       "}\n",
       "\n",
       "#sk-container-id-1 a.estimator_doc_link.fitted {\n",
       "  /* fitted */\n",
       "  border: var(--sklearn-color-fitted-level-1) 1pt solid;\n",
       "  color: var(--sklearn-color-fitted-level-1);\n",
       "}\n",
       "\n",
       "/* On hover */\n",
       "#sk-container-id-1 a.estimator_doc_link:hover {\n",
       "  /* unfitted */\n",
       "  background-color: var(--sklearn-color-unfitted-level-3);\n",
       "  color: var(--sklearn-color-background);\n",
       "  text-decoration: none;\n",
       "}\n",
       "\n",
       "#sk-container-id-1 a.estimator_doc_link.fitted:hover {\n",
       "  /* fitted */\n",
       "  background-color: var(--sklearn-color-fitted-level-3);\n",
       "}\n",
       "</style><div id=\"sk-container-id-1\" class=\"sk-top-container\"><div class=\"sk-text-repr-fallback\"><pre>GridSearchCV(estimator=SVC(random_state=42),\n",
       "             param_grid={&#x27;C&#x27;: [1, 5, 10],\n",
       "                         &#x27;gamma&#x27;: [1, 0.1, 0.01, 0.001, 0.0001]})</pre><b>In a Jupyter environment, please rerun this cell to show the HTML representation or trust the notebook. <br />On GitHub, the HTML representation is unable to render, please try loading this page with nbviewer.org.</b></div><div class=\"sk-container\" hidden><div class=\"sk-item sk-dashed-wrapped\"><div class=\"sk-label-container\"><div class=\"sk-label fitted sk-toggleable\"><input class=\"sk-toggleable__control sk-hidden--visually\" id=\"sk-estimator-id-1\" type=\"checkbox\" ><label for=\"sk-estimator-id-1\" class=\"sk-toggleable__label fitted sk-toggleable__label-arrow\"><div><div>GridSearchCV</div></div><div><a class=\"sk-estimator-doc-link fitted\" rel=\"noreferrer\" target=\"_blank\" href=\"https://scikit-learn.org/1.6/modules/generated/sklearn.model_selection.GridSearchCV.html\">?<span>Documentation for GridSearchCV</span></a><span class=\"sk-estimator-doc-link fitted\">i<span>Fitted</span></span></div></label><div class=\"sk-toggleable__content fitted\"><pre>GridSearchCV(estimator=SVC(random_state=42),\n",
       "             param_grid={&#x27;C&#x27;: [1, 5, 10],\n",
       "                         &#x27;gamma&#x27;: [1, 0.1, 0.01, 0.001, 0.0001]})</pre></div> </div></div><div class=\"sk-parallel\"><div class=\"sk-parallel-item\"><div class=\"sk-item\"><div class=\"sk-label-container\"><div class=\"sk-label fitted sk-toggleable\"><input class=\"sk-toggleable__control sk-hidden--visually\" id=\"sk-estimator-id-2\" type=\"checkbox\" ><label for=\"sk-estimator-id-2\" class=\"sk-toggleable__label fitted sk-toggleable__label-arrow\"><div><div>best_estimator_: SVC</div></div></label><div class=\"sk-toggleable__content fitted\"><pre>SVC(C=10, gamma=0.1, random_state=42)</pre></div> </div></div><div class=\"sk-serial\"><div class=\"sk-item\"><div class=\"sk-estimator fitted sk-toggleable\"><input class=\"sk-toggleable__control sk-hidden--visually\" id=\"sk-estimator-id-3\" type=\"checkbox\" ><label for=\"sk-estimator-id-3\" class=\"sk-toggleable__label fitted sk-toggleable__label-arrow\"><div><div>SVC</div></div><div><a class=\"sk-estimator-doc-link fitted\" rel=\"noreferrer\" target=\"_blank\" href=\"https://scikit-learn.org/1.6/modules/generated/sklearn.svm.SVC.html\">?<span>Documentation for SVC</span></a></div></label><div class=\"sk-toggleable__content fitted\"><pre>SVC(C=10, gamma=0.1, random_state=42)</pre></div> </div></div></div></div></div></div></div></div></div>"
      ],
      "text/plain": [
       "GridSearchCV(estimator=SVC(random_state=42),\n",
       "             param_grid={'C': [1, 5, 10],\n",
       "                         'gamma': [1, 0.1, 0.01, 0.001, 0.0001]})"
      ]
     },
     "execution_count": 35,
     "metadata": {},
     "output_type": "execute_result"
    }
   ],
   "source": [
    "parameters = {'gamma': [1, 0.1, 0.01, 0.001, 0.0001],\n",
    "              'C': [1, 5, 10]}\n",
    "svc_model = SVC(kernel = 'rbf', random_state = 42)\n",
    "model = GridSearchCV(svc_model, parameters)\n",
    "model.fit(X_train, y_train)"
   ]
  },
  {
   "cell_type": "code",
   "execution_count": 36,
   "metadata": {
    "colab": {
     "base_uri": "https://localhost:8080/"
    },
    "execution": {
     "iopub.execute_input": "2024-07-19T02:25:57.190903Z",
     "iopub.status.busy": "2024-07-19T02:25:57.190423Z",
     "iopub.status.idle": "2024-07-19T02:25:57.198716Z",
     "shell.execute_reply": "2024-07-19T02:25:57.197503Z",
     "shell.execute_reply.started": "2024-07-19T02:25:57.190860Z"
    },
    "id": "lX9xGNmRsH3q",
    "outputId": "e0963afe-bd3e-45f8-afc1-68f239b36cc1",
    "trusted": true
   },
   "outputs": [
    {
     "name": "stdout",
     "output_type": "stream",
     "text": [
      "These are the best parameter you should choose in your model: \n",
      "{'C': 10, 'gamma': 0.1}\n",
      "SVC(C=10, gamma=0.1, random_state=42)\n"
     ]
    }
   ],
   "source": [
    "print(\"These are the best parameter you should choose in your model: \")\n",
    "print(model.best_params_)\n",
    "print(model.best_estimator_)"
   ]
  },
  {
   "cell_type": "code",
   "execution_count": 37,
   "metadata": {
    "colab": {
     "base_uri": "https://localhost:8080/"
    },
    "execution": {
     "iopub.execute_input": "2024-07-19T02:25:57.215626Z",
     "iopub.status.busy": "2024-07-19T02:25:57.215222Z",
     "iopub.status.idle": "2024-07-19T02:25:57.289333Z",
     "shell.execute_reply": "2024-07-19T02:25:57.288097Z",
     "shell.execute_reply.started": "2024-07-19T02:25:57.215587Z"
    },
    "id": "SH24XNUyz-gI",
    "outputId": "ecf07a0d-25c8-4942-d671-c2380bec3eb1",
    "trusted": true
   },
   "outputs": [
    {
     "name": "stdout",
     "output_type": "stream",
     "text": [
      "Accuracy: 0.9442307692307692\n",
      "Classification Report:\n",
      "              precision    recall  f1-score   support\n",
      "\n",
      "           0       0.94      0.99      0.97       416\n",
      "           1       0.96      0.75      0.84       104\n",
      "\n",
      "    accuracy                           0.94       520\n",
      "   macro avg       0.95      0.87      0.90       520\n",
      "weighted avg       0.95      0.94      0.94       520\n",
      "\n"
     ]
    }
   ],
   "source": [
    "# Predicting the Test set results\n",
    "y_pred = model.predict(X_test)\n",
    "\n",
    "# Evaluating the Model\n",
    "print(\"Accuracy:\", accuracy_score(y_test, y_pred))\n",
    "print(\"Classification Report:\")\n",
    "print(classification_report(y_test, y_pred))\n"
   ]
  },
  {
   "cell_type": "code",
   "execution_count": 39,
   "metadata": {
    "colab": {
     "base_uri": "https://localhost:8080/",
     "height": 226
    },
    "execution": {
     "iopub.execute_input": "2024-07-19T02:25:57.291222Z",
     "iopub.status.busy": "2024-07-19T02:25:57.290845Z",
     "iopub.status.idle": "2024-07-19T02:25:57.319895Z",
     "shell.execute_reply": "2024-07-19T02:25:57.318539Z",
     "shell.execute_reply.started": "2024-07-19T02:25:57.291189Z"
    },
    "id": "Wzy1gKskz-gI",
    "outputId": "dd74ab5f-9da0-412a-a824-f087b731ea61",
    "trusted": true
   },
   "outputs": [
    {
     "data": {
      "text/html": [
       "<div>\n",
       "<style scoped>\n",
       "    .dataframe tbody tr th:only-of-type {\n",
       "        vertical-align: middle;\n",
       "    }\n",
       "\n",
       "    .dataframe tbody tr th {\n",
       "        vertical-align: top;\n",
       "    }\n",
       "\n",
       "    .dataframe thead th {\n",
       "        text-align: right;\n",
       "    }\n",
       "</style>\n",
       "<table border=\"1\" class=\"dataframe\">\n",
       "  <thead>\n",
       "    <tr style=\"text-align: right;\">\n",
       "      <th></th>\n",
       "      <th>id</th>\n",
       "      <th>loan_amount</th>\n",
       "      <th>mortgage_amount</th>\n",
       "      <th>property_value</th>\n",
       "      <th>loan_reason</th>\n",
       "      <th>occupation</th>\n",
       "      <th>occupation_length</th>\n",
       "      <th>derogatory_reports</th>\n",
       "      <th>late_payments</th>\n",
       "      <th>oldest_credit_line</th>\n",
       "      <th>recent_credit</th>\n",
       "      <th>credit_number</th>\n",
       "      <th>ratio</th>\n",
       "    </tr>\n",
       "  </thead>\n",
       "  <tbody>\n",
       "    <tr>\n",
       "      <th>0</th>\n",
       "      <td>12816</td>\n",
       "      <td>28100</td>\n",
       "      <td>32470.0</td>\n",
       "      <td>54522.0</td>\n",
       "      <td>DebtCon</td>\n",
       "      <td>Other</td>\n",
       "      <td>35.0</td>\n",
       "      <td>0.0</td>\n",
       "      <td>0.0</td>\n",
       "      <td>295.496684</td>\n",
       "      <td>0.0</td>\n",
       "      <td>23.0</td>\n",
       "      <td>38.799483</td>\n",
       "    </tr>\n",
       "    <tr>\n",
       "      <th>1</th>\n",
       "      <td>11678</td>\n",
       "      <td>10500</td>\n",
       "      <td>57880.0</td>\n",
       "      <td>66802.0</td>\n",
       "      <td>DebtCon</td>\n",
       "      <td>Other</td>\n",
       "      <td>2.0</td>\n",
       "      <td>0.0</td>\n",
       "      <td>0.0</td>\n",
       "      <td>94.598425</td>\n",
       "      <td>8.0</td>\n",
       "      <td>21.0</td>\n",
       "      <td>45.464766</td>\n",
       "    </tr>\n",
       "    <tr>\n",
       "      <th>2</th>\n",
       "      <td>13568</td>\n",
       "      <td>10900</td>\n",
       "      <td>NaN</td>\n",
       "      <td>76207.0</td>\n",
       "      <td>NaN</td>\n",
       "      <td>NaN</td>\n",
       "      <td>NaN</td>\n",
       "      <td>NaN</td>\n",
       "      <td>NaN</td>\n",
       "      <td>NaN</td>\n",
       "      <td>NaN</td>\n",
       "      <td>NaN</td>\n",
       "      <td>22.392612</td>\n",
       "    </tr>\n",
       "    <tr>\n",
       "      <th>3</th>\n",
       "      <td>16525</td>\n",
       "      <td>50000</td>\n",
       "      <td>44000.0</td>\n",
       "      <td>59000.0</td>\n",
       "      <td>DebtCon</td>\n",
       "      <td>Office</td>\n",
       "      <td>12.0</td>\n",
       "      <td>0.0</td>\n",
       "      <td>1.0</td>\n",
       "      <td>102.500000</td>\n",
       "      <td>2.0</td>\n",
       "      <td>26.0</td>\n",
       "      <td>NaN</td>\n",
       "    </tr>\n",
       "    <tr>\n",
       "      <th>4</th>\n",
       "      <td>16160</td>\n",
       "      <td>7500</td>\n",
       "      <td>NaN</td>\n",
       "      <td>26850.0</td>\n",
       "      <td>HomeImp</td>\n",
       "      <td>Office</td>\n",
       "      <td>20.0</td>\n",
       "      <td>0.0</td>\n",
       "      <td>0.0</td>\n",
       "      <td>185.633333</td>\n",
       "      <td>1.0</td>\n",
       "      <td>16.0</td>\n",
       "      <td>NaN</td>\n",
       "    </tr>\n",
       "  </tbody>\n",
       "</table>\n",
       "</div>"
      ],
      "text/plain": [
       "      id  loan_amount  mortgage_amount  property_value loan_reason occupation  \\\n",
       "0  12816        28100          32470.0         54522.0     DebtCon      Other   \n",
       "1  11678        10500          57880.0         66802.0     DebtCon      Other   \n",
       "2  13568        10900              NaN         76207.0         NaN        NaN   \n",
       "3  16525        50000          44000.0         59000.0     DebtCon     Office   \n",
       "4  16160         7500              NaN         26850.0     HomeImp     Office   \n",
       "\n",
       "   occupation_length  derogatory_reports  late_payments  oldest_credit_line  \\\n",
       "0               35.0                 0.0            0.0          295.496684   \n",
       "1                2.0                 0.0            0.0           94.598425   \n",
       "2                NaN                 NaN            NaN                 NaN   \n",
       "3               12.0                 0.0            1.0          102.500000   \n",
       "4               20.0                 0.0            0.0          185.633333   \n",
       "\n",
       "   recent_credit  credit_number      ratio  \n",
       "0            0.0           23.0  38.799483  \n",
       "1            8.0           21.0  45.464766  \n",
       "2            NaN            NaN  22.392612  \n",
       "3            2.0           26.0        NaN  \n",
       "4            1.0           16.0        NaN  "
      ]
     },
     "execution_count": 39,
     "metadata": {},
     "output_type": "execute_result"
    }
   ],
   "source": [
    "test = pd.read_csv('/Users/d.o.npat/Desktop/Loan_prediction_deploy/hmeq_test.csv')\n",
    "test.head()"
   ]
  },
  {
   "cell_type": "code",
   "execution_count": null,
   "metadata": {
    "colab": {
     "base_uri": "https://localhost:8080/",
     "height": 443
    },
    "execution": {
     "iopub.execute_input": "2024-07-19T02:25:57.322068Z",
     "iopub.status.busy": "2024-07-19T02:25:57.321616Z",
     "iopub.status.idle": "2024-07-19T02:25:57.792713Z",
     "shell.execute_reply": "2024-07-19T02:25:57.791356Z",
     "shell.execute_reply.started": "2024-07-19T02:25:57.322024Z"
    },
    "id": "yKIP9S6Gz-gN",
    "outputId": "4f8744e5-5c56-4738-93b7-4263783ea1c8",
    "trusted": true
   },
   "outputs": [],
   "source": [
    "test = Handle_missing(test)\n",
    "test"
   ]
  },
  {
   "cell_type": "code",
   "execution_count": 41,
   "metadata": {
    "execution": {
     "iopub.execute_input": "2024-07-19T02:25:57.794742Z",
     "iopub.status.busy": "2024-07-19T02:25:57.794256Z",
     "iopub.status.idle": "2024-07-19T02:25:57.815277Z",
     "shell.execute_reply": "2024-07-19T02:25:57.813896Z",
     "shell.execute_reply.started": "2024-07-19T02:25:57.794697Z"
    },
    "id": "kVqJet7Yz-gN",
    "trusted": true
   },
   "outputs": [],
   "source": [
    "import pandas as pd\n",
    "\n",
    "# Calculate median for selected columns\n",
    "median_values = test[['mortgage_amount', 'property_value', 'derogatory_reports',\n",
    "                    'late_payments', 'oldest_credit_line', 'recent_credit',\n",
    "                    'credit_number', 'ratio']].median()\n",
    "\n",
    "# Replace NaNs with the median value in each column\n",
    "test[['mortgage_amount', 'property_value', 'derogatory_reports',\n",
    "    'late_payments', 'oldest_credit_line', 'recent_credit',\n",
    "    'credit_number', 'ratio']] = test[['mortgage_amount', 'property_value', 'derogatory_reports',\n",
    "                                     'late_payments', 'oldest_credit_line', 'recent_credit',\n",
    "                                     'credit_number', 'ratio']].fillna(median_values)"
   ]
  },
  {
   "cell_type": "code",
   "execution_count": 42,
   "metadata": {
    "execution": {
     "iopub.execute_input": "2024-07-19T02:25:57.817552Z",
     "iopub.status.busy": "2024-07-19T02:25:57.816969Z",
     "iopub.status.idle": "2024-07-19T02:25:57.840433Z",
     "shell.execute_reply": "2024-07-19T02:25:57.839057Z",
     "shell.execute_reply.started": "2024-07-19T02:25:57.817505Z"
    },
    "id": "BflkwBAUz-gN",
    "trusted": true
   },
   "outputs": [],
   "source": [
    "test['loan_reason'] = le.transform(test['loan_reason'])\n",
    "\n",
    "test_onehot_df = encoder.transform(test[['occupation']]).toarray()\n",
    "test_onehot_df = pd.DataFrame(test_onehot_df, columns=encoder.get_feature_names_out(['occupation']))\n",
    "test = pd.concat([test, test_onehot_df], axis=1)\n",
    "test = test.drop('occupation', axis=1)\n",
    "\n",
    "\n",
    "cols_to_scale = ['loan_amount', 'mortgage_amount', 'property_value', 'oldest_credit_line','ratio', 'occupation_length', 'derogatory_reports']\n",
    "\n",
    "test[cols_to_scale] = scaler.fit_transform(test[cols_to_scale])"
   ]
  },
  {
   "cell_type": "code",
   "execution_count": 43,
   "metadata": {
    "colab": {
     "base_uri": "https://localhost:8080/",
     "height": 443
    },
    "execution": {
     "iopub.execute_input": "2024-07-19T02:25:57.842543Z",
     "iopub.status.busy": "2024-07-19T02:25:57.842000Z",
     "iopub.status.idle": "2024-07-19T02:25:57.888604Z",
     "shell.execute_reply": "2024-07-19T02:25:57.887445Z",
     "shell.execute_reply.started": "2024-07-19T02:25:57.842466Z"
    },
    "id": "RCdft0mlz-gN",
    "outputId": "27722c09-3bb2-427f-f5bc-c13f9f583ad1",
    "trusted": true
   },
   "outputs": [
    {
     "data": {
      "text/html": [
       "<div>\n",
       "<style scoped>\n",
       "    .dataframe tbody tr th:only-of-type {\n",
       "        vertical-align: middle;\n",
       "    }\n",
       "\n",
       "    .dataframe tbody tr th {\n",
       "        vertical-align: top;\n",
       "    }\n",
       "\n",
       "    .dataframe thead th {\n",
       "        text-align: right;\n",
       "    }\n",
       "</style>\n",
       "<table border=\"1\" class=\"dataframe\">\n",
       "  <thead>\n",
       "    <tr style=\"text-align: right;\">\n",
       "      <th></th>\n",
       "      <th>loan_amount</th>\n",
       "      <th>mortgage_amount</th>\n",
       "      <th>property_value</th>\n",
       "      <th>loan_reason</th>\n",
       "      <th>occupation_length</th>\n",
       "      <th>derogatory_reports</th>\n",
       "      <th>late_payments</th>\n",
       "      <th>oldest_credit_line</th>\n",
       "      <th>recent_credit</th>\n",
       "      <th>credit_number</th>\n",
       "      <th>ratio</th>\n",
       "      <th>occupation_Mgr</th>\n",
       "      <th>occupation_Office</th>\n",
       "      <th>occupation_Other</th>\n",
       "      <th>occupation_ProfExe</th>\n",
       "      <th>occupation_Sales</th>\n",
       "      <th>occupation_Self</th>\n",
       "    </tr>\n",
       "  </thead>\n",
       "  <tbody>\n",
       "    <tr>\n",
       "      <th>0</th>\n",
       "      <td>0.975509</td>\n",
       "      <td>-0.799224</td>\n",
       "      <td>-0.759802</td>\n",
       "      <td>0</td>\n",
       "      <td>3.534306</td>\n",
       "      <td>-0.442014</td>\n",
       "      <td>0.0</td>\n",
       "      <td>1.250135</td>\n",
       "      <td>0.0</td>\n",
       "      <td>23.0</td>\n",
       "      <td>0.693912</td>\n",
       "      <td>0.0</td>\n",
       "      <td>0.0</td>\n",
       "      <td>1.0</td>\n",
       "      <td>0.0</td>\n",
       "      <td>0.0</td>\n",
       "      <td>0.0</td>\n",
       "    </tr>\n",
       "    <tr>\n",
       "      <th>1</th>\n",
       "      <td>-0.718862</td>\n",
       "      <td>-0.276939</td>\n",
       "      <td>-0.562271</td>\n",
       "      <td>0</td>\n",
       "      <td>-0.924537</td>\n",
       "      <td>-0.442014</td>\n",
       "      <td>0.0</td>\n",
       "      <td>-0.972374</td>\n",
       "      <td>8.0</td>\n",
       "      <td>21.0</td>\n",
       "      <td>1.608496</td>\n",
       "      <td>0.0</td>\n",
       "      <td>0.0</td>\n",
       "      <td>1.0</td>\n",
       "      <td>0.0</td>\n",
       "      <td>0.0</td>\n",
       "      <td>0.0</td>\n",
       "    </tr>\n",
       "    <tr>\n",
       "      <th>2</th>\n",
       "      <td>-0.680353</td>\n",
       "      <td>-0.370155</td>\n",
       "      <td>-0.410986</td>\n",
       "      <td>1</td>\n",
       "      <td>-0.113838</td>\n",
       "      <td>2.588454</td>\n",
       "      <td>6.0</td>\n",
       "      <td>-0.034876</td>\n",
       "      <td>1.0</td>\n",
       "      <td>20.0</td>\n",
       "      <td>-1.557374</td>\n",
       "      <td>0.0</td>\n",
       "      <td>0.0</td>\n",
       "      <td>1.0</td>\n",
       "      <td>0.0</td>\n",
       "      <td>0.0</td>\n",
       "      <td>0.0</td>\n",
       "    </tr>\n",
       "    <tr>\n",
       "      <th>3</th>\n",
       "      <td>3.083845</td>\n",
       "      <td>-0.562233</td>\n",
       "      <td>-0.687771</td>\n",
       "      <td>0</td>\n",
       "      <td>0.426628</td>\n",
       "      <td>-0.442014</td>\n",
       "      <td>1.0</td>\n",
       "      <td>-0.884960</td>\n",
       "      <td>2.0</td>\n",
       "      <td>26.0</td>\n",
       "      <td>0.100060</td>\n",
       "      <td>0.0</td>\n",
       "      <td>1.0</td>\n",
       "      <td>0.0</td>\n",
       "      <td>0.0</td>\n",
       "      <td>0.0</td>\n",
       "      <td>0.0</td>\n",
       "    </tr>\n",
       "    <tr>\n",
       "      <th>4</th>\n",
       "      <td>-1.007675</td>\n",
       "      <td>-1.080304</td>\n",
       "      <td>-1.204923</td>\n",
       "      <td>1</td>\n",
       "      <td>1.507559</td>\n",
       "      <td>-0.442014</td>\n",
       "      <td>0.0</td>\n",
       "      <td>0.034732</td>\n",
       "      <td>1.0</td>\n",
       "      <td>16.0</td>\n",
       "      <td>0.100060</td>\n",
       "      <td>0.0</td>\n",
       "      <td>1.0</td>\n",
       "      <td>0.0</td>\n",
       "      <td>0.0</td>\n",
       "      <td>0.0</td>\n",
       "      <td>0.0</td>\n",
       "    </tr>\n",
       "    <tr>\n",
       "      <th>...</th>\n",
       "      <td>...</td>\n",
       "      <td>...</td>\n",
       "      <td>...</td>\n",
       "      <td>...</td>\n",
       "      <td>...</td>\n",
       "      <td>...</td>\n",
       "      <td>...</td>\n",
       "      <td>...</td>\n",
       "      <td>...</td>\n",
       "      <td>...</td>\n",
       "      <td>...</td>\n",
       "      <td>...</td>\n",
       "      <td>...</td>\n",
       "      <td>...</td>\n",
       "      <td>...</td>\n",
       "      <td>...</td>\n",
       "      <td>...</td>\n",
       "    </tr>\n",
       "    <tr>\n",
       "      <th>757</th>\n",
       "      <td>0.677069</td>\n",
       "      <td>0.218831</td>\n",
       "      <td>0.427364</td>\n",
       "      <td>0</td>\n",
       "      <td>-0.248955</td>\n",
       "      <td>-0.442014</td>\n",
       "      <td>1.0</td>\n",
       "      <td>-1.906799</td>\n",
       "      <td>1.0</td>\n",
       "      <td>41.0</td>\n",
       "      <td>0.100060</td>\n",
       "      <td>1.0</td>\n",
       "      <td>0.0</td>\n",
       "      <td>0.0</td>\n",
       "      <td>0.0</td>\n",
       "      <td>0.0</td>\n",
       "      <td>0.0</td>\n",
       "    </tr>\n",
       "    <tr>\n",
       "      <th>758</th>\n",
       "      <td>0.523035</td>\n",
       "      <td>0.367356</td>\n",
       "      <td>0.287081</td>\n",
       "      <td>0</td>\n",
       "      <td>-0.789421</td>\n",
       "      <td>-0.442014</td>\n",
       "      <td>0.0</td>\n",
       "      <td>0.433527</td>\n",
       "      <td>1.0</td>\n",
       "      <td>26.0</td>\n",
       "      <td>0.111666</td>\n",
       "      <td>0.0</td>\n",
       "      <td>0.0</td>\n",
       "      <td>0.0</td>\n",
       "      <td>0.0</td>\n",
       "      <td>0.0</td>\n",
       "      <td>1.0</td>\n",
       "    </tr>\n",
       "    <tr>\n",
       "      <th>759</th>\n",
       "      <td>-0.256761</td>\n",
       "      <td>-1.027109</td>\n",
       "      <td>-1.017848</td>\n",
       "      <td>1</td>\n",
       "      <td>1.507559</td>\n",
       "      <td>-0.442014</td>\n",
       "      <td>1.0</td>\n",
       "      <td>0.001175</td>\n",
       "      <td>4.0</td>\n",
       "      <td>31.0</td>\n",
       "      <td>0.100060</td>\n",
       "      <td>1.0</td>\n",
       "      <td>0.0</td>\n",
       "      <td>0.0</td>\n",
       "      <td>0.0</td>\n",
       "      <td>0.0</td>\n",
       "      <td>0.0</td>\n",
       "    </tr>\n",
       "    <tr>\n",
       "      <th>760</th>\n",
       "      <td>-0.959539</td>\n",
       "      <td>0.107838</td>\n",
       "      <td>-0.092604</td>\n",
       "      <td>0</td>\n",
       "      <td>-0.924537</td>\n",
       "      <td>-0.442014</td>\n",
       "      <td>0.0</td>\n",
       "      <td>-1.210945</td>\n",
       "      <td>2.0</td>\n",
       "      <td>24.0</td>\n",
       "      <td>0.100060</td>\n",
       "      <td>1.0</td>\n",
       "      <td>0.0</td>\n",
       "      <td>0.0</td>\n",
       "      <td>0.0</td>\n",
       "      <td>0.0</td>\n",
       "      <td>0.0</td>\n",
       "    </tr>\n",
       "    <tr>\n",
       "      <th>761</th>\n",
       "      <td>-0.314523</td>\n",
       "      <td>-0.906825</td>\n",
       "      <td>-1.007842</td>\n",
       "      <td>1</td>\n",
       "      <td>-0.113838</td>\n",
       "      <td>-0.442014</td>\n",
       "      <td>0.0</td>\n",
       "      <td>-1.228784</td>\n",
       "      <td>2.0</td>\n",
       "      <td>11.0</td>\n",
       "      <td>-0.629919</td>\n",
       "      <td>0.0</td>\n",
       "      <td>0.0</td>\n",
       "      <td>1.0</td>\n",
       "      <td>0.0</td>\n",
       "      <td>0.0</td>\n",
       "      <td>0.0</td>\n",
       "    </tr>\n",
       "  </tbody>\n",
       "</table>\n",
       "<p>762 rows × 17 columns</p>\n",
       "</div>"
      ],
      "text/plain": [
       "     loan_amount  mortgage_amount  property_value  loan_reason  \\\n",
       "0       0.975509        -0.799224       -0.759802            0   \n",
       "1      -0.718862        -0.276939       -0.562271            0   \n",
       "2      -0.680353        -0.370155       -0.410986            1   \n",
       "3       3.083845        -0.562233       -0.687771            0   \n",
       "4      -1.007675        -1.080304       -1.204923            1   \n",
       "..           ...              ...             ...          ...   \n",
       "757     0.677069         0.218831        0.427364            0   \n",
       "758     0.523035         0.367356        0.287081            0   \n",
       "759    -0.256761        -1.027109       -1.017848            1   \n",
       "760    -0.959539         0.107838       -0.092604            0   \n",
       "761    -0.314523        -0.906825       -1.007842            1   \n",
       "\n",
       "     occupation_length  derogatory_reports  late_payments  oldest_credit_line  \\\n",
       "0             3.534306           -0.442014            0.0            1.250135   \n",
       "1            -0.924537           -0.442014            0.0           -0.972374   \n",
       "2            -0.113838            2.588454            6.0           -0.034876   \n",
       "3             0.426628           -0.442014            1.0           -0.884960   \n",
       "4             1.507559           -0.442014            0.0            0.034732   \n",
       "..                 ...                 ...            ...                 ...   \n",
       "757          -0.248955           -0.442014            1.0           -1.906799   \n",
       "758          -0.789421           -0.442014            0.0            0.433527   \n",
       "759           1.507559           -0.442014            1.0            0.001175   \n",
       "760          -0.924537           -0.442014            0.0           -1.210945   \n",
       "761          -0.113838           -0.442014            0.0           -1.228784   \n",
       "\n",
       "     recent_credit  credit_number     ratio  occupation_Mgr  \\\n",
       "0              0.0           23.0  0.693912             0.0   \n",
       "1              8.0           21.0  1.608496             0.0   \n",
       "2              1.0           20.0 -1.557374             0.0   \n",
       "3              2.0           26.0  0.100060             0.0   \n",
       "4              1.0           16.0  0.100060             0.0   \n",
       "..             ...            ...       ...             ...   \n",
       "757            1.0           41.0  0.100060             1.0   \n",
       "758            1.0           26.0  0.111666             0.0   \n",
       "759            4.0           31.0  0.100060             1.0   \n",
       "760            2.0           24.0  0.100060             1.0   \n",
       "761            2.0           11.0 -0.629919             0.0   \n",
       "\n",
       "     occupation_Office  occupation_Other  occupation_ProfExe  \\\n",
       "0                  0.0               1.0                 0.0   \n",
       "1                  0.0               1.0                 0.0   \n",
       "2                  0.0               1.0                 0.0   \n",
       "3                  1.0               0.0                 0.0   \n",
       "4                  1.0               0.0                 0.0   \n",
       "..                 ...               ...                 ...   \n",
       "757                0.0               0.0                 0.0   \n",
       "758                0.0               0.0                 0.0   \n",
       "759                0.0               0.0                 0.0   \n",
       "760                0.0               0.0                 0.0   \n",
       "761                0.0               1.0                 0.0   \n",
       "\n",
       "     occupation_Sales  occupation_Self  \n",
       "0                 0.0              0.0  \n",
       "1                 0.0              0.0  \n",
       "2                 0.0              0.0  \n",
       "3                 0.0              0.0  \n",
       "4                 0.0              0.0  \n",
       "..                ...              ...  \n",
       "757               0.0              0.0  \n",
       "758               0.0              1.0  \n",
       "759               0.0              0.0  \n",
       "760               0.0              0.0  \n",
       "761               0.0              0.0  \n",
       "\n",
       "[762 rows x 17 columns]"
      ]
     },
     "execution_count": 43,
     "metadata": {},
     "output_type": "execute_result"
    }
   ],
   "source": [
    "test1 = test.drop(['id'], axis=1)\n",
    "test1"
   ]
  },
  {
   "cell_type": "code",
   "execution_count": 44,
   "metadata": {
    "execution": {
     "iopub.execute_input": "2024-07-19T02:25:57.890522Z",
     "iopub.status.busy": "2024-07-19T02:25:57.890116Z",
     "iopub.status.idle": "2024-07-19T02:25:57.970612Z",
     "shell.execute_reply": "2024-07-19T02:25:57.969258Z",
     "shell.execute_reply.started": "2024-07-19T02:25:57.890488Z"
    },
    "id": "rHw5uNjaz-gN",
    "trusted": true
   },
   "outputs": [],
   "source": [
    "y_pred = model.predict(test1)"
   ]
  },
  {
   "cell_type": "code",
   "execution_count": 45,
   "metadata": {
    "colab": {
     "base_uri": "https://localhost:8080/"
    },
    "execution": {
     "iopub.execute_input": "2024-07-19T02:25:57.972508Z",
     "iopub.status.busy": "2024-07-19T02:25:57.972033Z",
     "iopub.status.idle": "2024-07-19T02:25:57.981766Z",
     "shell.execute_reply": "2024-07-19T02:25:57.980418Z",
     "shell.execute_reply.started": "2024-07-19T02:25:57.972465Z"
    },
    "id": "nGTxUTcUz-gN",
    "outputId": "1be0b449-826f-4112-e117-0d11c98c6e5c",
    "trusted": true
   },
   "outputs": [
    {
     "name": "stdout",
     "output_type": "stream",
     "text": [
      "[0 1 0 0 0 0 0 0 0 0 0 0 0 0 0 0 1 0 0 0 0 0 0 0 0 0 0 0 0 0 0 0 0 0 0 0 1\n",
      " 0 0 0 0 1 0 1 0 0 0 0 0 1 1 0 1 0 0 0 0 0 0 0 0 0 0 0 0 0 0 0 0 0 1 0 0 0\n",
      " 0 0 0 0 0 0 0 0 0 0 0 0 0 0 1 0 0 1 0 0 0 0 0 0 0 0 1 0 0 0 0 0 0 0 0 0 0\n",
      " 0 0 0 0 0 0 0 0 0 0 0 0 0 0 0 0 0 0 0 0 0 0 0 1 0 0 0 0 0 0 0 0 0 0 0 0 0\n",
      " 0 0 0 1 0 0 0 0 1 0 0 0 0 0 0 1 0 0 0 0 0 0 0 0 1 0 0 1 0 0 0 0 0 0 0 0 0\n",
      " 0 0 0 0 0 0 0 0 0 0 0 0 1 1 0 0 0 0 0 0 0 0 0 0 0 0 0 0 0 1 0 0 0 0 0 1 0\n",
      " 0 0 0 0 0 1 0 0 1 0 1 0 0 0 0 0 0 0 0 0 1 0 0 0 0 0 0 0 0 0 1 0 0 1 1 0 0\n",
      " 0 0 0 0 0 0 0 0 0 0 1 0 1 0 0 0 1 1 0 1 1 0 0 1 0 0 1 0 1 0 0 0 0 0 0 0 0\n",
      " 0 0 1 0 0 0 1 0 0 0 0 0 0 0 0 0 1 0 1 0 1 0 1 0 0 1 0 0 1 1 0 0 0 0 0 0 1\n",
      " 0 0 0 0 0 1 0 0 0 0 0 1 0 1 1 0 1 0 0 0 0 0 1 0 0 0 0 1 0 0 1 0 0 0 1 0 1\n",
      " 0 0 0 0 0 1 0 1 0 0 0 0 0 0 0 0 1 0 1 0 0 1 0 0 0 0 0 1 0 0 0 0 0 0 0 0 0\n",
      " 0 1 0 0 0 0 0 0 0 0 0 0 0 0 0 0 0 0 0 1 0 0 0 0 0 0 0 0 0 0 0 0 0 0 0 0 1\n",
      " 0 0 0 0 0 0 0 0 0 0 0 0 0 0 0 0 0 1 0 1 0 0 0 0 0 0 0 0 0 1 0 0 0 0 0 0 0\n",
      " 1 0 0 0 1 1 0 1 0 0 0 0 1 1 0 0 0 0 0 1 0 0 0 0 0 0 0 0 0 0 0 0 0 0 0 1 0\n",
      " 0 0 0 0 0 0 0 0 0 0 0 0 0 1 0 0 0 0 0 0 0 0 0 1 0 0 0 0 0 0 1 0 1 1 0 0 0\n",
      " 0 1 0 1 1 1 0 1 0 0 0 1 0 0 0 0 0 0 0 0 0 1 0 1 0 0 1 0 0 1 0 0 0 1 0 0 0\n",
      " 0 0 0 0 0 1 0 1 0 0 0 1 1 0 1 1 0 0 1 0 0 0 0 0 0 0 0 0 0 0 0 0 0 0 0 0 0\n",
      " 0 0 0 0 0 1 0 0 0 0 0 1 1 0 0 1 0 0 0 1 0 0 0 0 0 0 0 0 0 0 0 0 0 0 0 0 0\n",
      " 0 0 0 0 0 0 0 0 0 0 0 0 0 0 0 0 0 0 0 0 0 0 0 0 0 0 0 0 0 0 0 0 0 0 0 0 0\n",
      " 0 0 1 1 0 0 1 1 0 0 0 0 0 1 1 0 0 0 0 0 1 0 0 0 0 1 0 0 0 0 0 0 0 0 0 0 0\n",
      " 0 1 0 0 0 0 1 1 0 0 1 0 0 0 0 0 0 1 0 1 0 0]\n"
     ]
    }
   ],
   "source": [
    "print(y_pred)"
   ]
  },
  {
   "cell_type": "code",
   "execution_count": 46,
   "metadata": {
    "colab": {
     "base_uri": "https://localhost:8080/",
     "height": 423
    },
    "execution": {
     "iopub.execute_input": "2024-07-19T02:25:57.983931Z",
     "iopub.status.busy": "2024-07-19T02:25:57.983464Z",
     "iopub.status.idle": "2024-07-19T02:25:58.003820Z",
     "shell.execute_reply": "2024-07-19T02:25:58.002452Z",
     "shell.execute_reply.started": "2024-07-19T02:25:57.983886Z"
    },
    "id": "fnNxxBZsz-gO",
    "outputId": "228ad6df-1b23-4a49-bbfa-e6257dc5e3a6",
    "trusted": true
   },
   "outputs": [
    {
     "data": {
      "text/html": [
       "<div>\n",
       "<style scoped>\n",
       "    .dataframe tbody tr th:only-of-type {\n",
       "        vertical-align: middle;\n",
       "    }\n",
       "\n",
       "    .dataframe tbody tr th {\n",
       "        vertical-align: top;\n",
       "    }\n",
       "\n",
       "    .dataframe thead th {\n",
       "        text-align: right;\n",
       "    }\n",
       "</style>\n",
       "<table border=\"1\" class=\"dataframe\">\n",
       "  <thead>\n",
       "    <tr style=\"text-align: right;\">\n",
       "      <th></th>\n",
       "      <th>0</th>\n",
       "    </tr>\n",
       "  </thead>\n",
       "  <tbody>\n",
       "    <tr>\n",
       "      <th>0</th>\n",
       "      <td>0</td>\n",
       "    </tr>\n",
       "    <tr>\n",
       "      <th>1</th>\n",
       "      <td>1</td>\n",
       "    </tr>\n",
       "    <tr>\n",
       "      <th>2</th>\n",
       "      <td>0</td>\n",
       "    </tr>\n",
       "    <tr>\n",
       "      <th>3</th>\n",
       "      <td>0</td>\n",
       "    </tr>\n",
       "    <tr>\n",
       "      <th>4</th>\n",
       "      <td>0</td>\n",
       "    </tr>\n",
       "    <tr>\n",
       "      <th>...</th>\n",
       "      <td>...</td>\n",
       "    </tr>\n",
       "    <tr>\n",
       "      <th>757</th>\n",
       "      <td>1</td>\n",
       "    </tr>\n",
       "    <tr>\n",
       "      <th>758</th>\n",
       "      <td>0</td>\n",
       "    </tr>\n",
       "    <tr>\n",
       "      <th>759</th>\n",
       "      <td>1</td>\n",
       "    </tr>\n",
       "    <tr>\n",
       "      <th>760</th>\n",
       "      <td>0</td>\n",
       "    </tr>\n",
       "    <tr>\n",
       "      <th>761</th>\n",
       "      <td>0</td>\n",
       "    </tr>\n",
       "  </tbody>\n",
       "</table>\n",
       "<p>762 rows × 1 columns</p>\n",
       "</div>"
      ],
      "text/plain": [
       "     0\n",
       "0    0\n",
       "1    1\n",
       "2    0\n",
       "3    0\n",
       "4    0\n",
       "..  ..\n",
       "757  1\n",
       "758  0\n",
       "759  1\n",
       "760  0\n",
       "761  0\n",
       "\n",
       "[762 rows x 1 columns]"
      ]
     },
     "execution_count": 46,
     "metadata": {},
     "output_type": "execute_result"
    }
   ],
   "source": [
    "test_df = pd.DataFrame(y_pred)\n",
    "test_df"
   ]
  },
  {
   "cell_type": "code",
   "execution_count": 47,
   "metadata": {
    "colab": {
     "base_uri": "https://localhost:8080/"
    },
    "execution": {
     "iopub.execute_input": "2024-07-19T02:25:58.005685Z",
     "iopub.status.busy": "2024-07-19T02:25:58.005299Z",
     "iopub.status.idle": "2024-07-19T02:25:58.019728Z",
     "shell.execute_reply": "2024-07-19T02:25:58.018398Z",
     "shell.execute_reply.started": "2024-07-19T02:25:58.005653Z"
    },
    "id": "uL6HnCnbz-gO",
    "outputId": "39528eb1-c38f-41d0-886b-8a1832585e8e",
    "trusted": true
   },
   "outputs": [
    {
     "name": "stdout",
     "output_type": "stream",
     "text": [
      "        id  default\n",
      "0    12816        0\n",
      "1    11678        1\n",
      "2    13568        0\n",
      "3    16525        0\n",
      "4    16160        0\n",
      "..     ...      ...\n",
      "757  16196        1\n",
      "758  16461        0\n",
      "759  16619        1\n",
      "760  12593        0\n",
      "761  16388        0\n",
      "\n",
      "[762 rows x 2 columns]\n"
     ]
    }
   ],
   "source": [
    "# Create the DataFrame\n",
    "test_df_new = pd.DataFrame({\n",
    "    'id': test.iloc[:, 0],\n",
    "    'default': y_pred\n",
    "})\n",
    "\n",
    "# Display the DataFrame\n",
    "print(test_df_new)"
   ]
  },
  {
   "cell_type": "code",
   "execution_count": 48,
   "metadata": {
    "execution": {
     "iopub.execute_input": "2024-07-19T02:26:28.902841Z",
     "iopub.status.busy": "2024-07-19T02:26:28.902417Z",
     "iopub.status.idle": "2024-07-19T02:26:28.911863Z",
     "shell.execute_reply": "2024-07-19T02:26:28.910698Z",
     "shell.execute_reply.started": "2024-07-19T02:26:28.902808Z"
    },
    "id": "l9hjNVkPz-gO",
    "trusted": true
   },
   "outputs": [],
   "source": [
    "test_df_1 = test_df_new.to_csv('submission.csv', index=False)"
   ]
  },
  {
   "cell_type": "markdown",
   "metadata": {},
   "source": [
    "### Save Model"
   ]
  },
  {
   "cell_type": "code",
   "execution_count": 50,
   "metadata": {},
   "outputs": [],
   "source": [
    "import joblib\n",
    "import pickle"
   ]
  },
  {
   "cell_type": "code",
   "execution_count": 51,
   "metadata": {},
   "outputs": [
    {
     "name": "stdout",
     "output_type": "stream",
     "text": [
      "Model and preprocessing components saved successfully!\n",
      "Files created:\n",
      "- loan_prediction_model.pkl (trained SVM model)\n",
      "- preprocessing_components.pkl (label encoder, scaler, one-hot encoder)\n",
      "- feature_names.pkl (feature column names)\n"
     ]
    }
   ],
   "source": [
    "# Save the trained model\n",
    "joblib.dump(model, 'loan_prediction_model.pkl')\n",
    "\n",
    "# Save the preprocessing components\n",
    "preprocessing_components = {\n",
    "    'label_encoder': le,\n",
    "    'standard_scaler': scaler,\n",
    "    'one_hot_encoder': encoder\n",
    "}\n",
    "\n",
    "# Save preprocessing components using pickle\n",
    "with open('preprocessing_components.pkl', 'wb') as f:\n",
    "    pickle.dump(preprocessing_components, f)\n",
    "\n",
    "# Save feature names for reference\n",
    "feature_names = X.columns.tolist()\n",
    "with open('feature_names.pkl', 'wb') as f:\n",
    "    pickle.dump(feature_names, f)\n",
    "\n",
    "print(\"Model and preprocessing components saved successfully!\")\n",
    "print(\"Files created:\")\n",
    "print(\"- loan_prediction_model.pkl (trained SVM model)\")\n",
    "print(\"- preprocessing_components.pkl (label encoder, scaler, one-hot encoder)\")\n",
    "print(\"- feature_names.pkl (feature column names)\")"
   ]
  }
 ],
 "metadata": {
  "accelerator": "GPU",
  "colab": {
   "gpuType": "T4",
   "provenance": []
  },
  "kaggle": {
   "accelerator": "none",
   "dataSources": [
    {
     "databundleVersionId": 8924600,
     "sourceId": 81529,
     "sourceType": "competition"
    }
   ],
   "dockerImageVersionId": 30746,
   "isGpuEnabled": false,
   "isInternetEnabled": false,
   "language": "python",
   "sourceType": "notebook"
  },
  "kernelspec": {
   "display_name": "Python (tfod)",
   "language": "python",
   "name": "tfod"
  },
  "language_info": {
   "codemirror_mode": {
    "name": "ipython",
    "version": 3
   },
   "file_extension": ".py",
   "mimetype": "text/x-python",
   "name": "python",
   "nbconvert_exporter": "python",
   "pygments_lexer": "ipython3",
   "version": "3.9.21"
  }
 },
 "nbformat": 4,
 "nbformat_minor": 4
}
